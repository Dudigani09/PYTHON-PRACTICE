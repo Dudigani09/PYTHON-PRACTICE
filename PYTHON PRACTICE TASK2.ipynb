{
 "cells": [
  {
   "cell_type": "markdown",
   "id": "2e5e4ca7",
   "metadata": {},
   "source": [
    "# INPUTS"
   ]
  },
  {
   "cell_type": "code",
   "execution_count": 7,
   "id": "3d93570e",
   "metadata": {},
   "outputs": [
    {
     "name": "stdout",
     "output_type": "stream",
     "text": [
      "What is your name?\n",
      "umesh\n",
      "umesh\n",
      "Enter number :23\n",
      "23\n",
      "Enter name : ganesh\n",
      "ganesh\n"
     ]
    }
   ],
   "source": [
    "name = input('What is your name?\\n')\n",
    "print(name)\n",
    "\n",
    "num = input (\"Enter number :\")\n",
    "print(num)\n",
    "name1 = input(\"Enter name : \")\n",
    "print(name1)\n",
    " "
   ]
  },
  {
   "cell_type": "code",
   "execution_count": 8,
   "id": "d11e5489",
   "metadata": {},
   "outputs": [
    {
     "name": "stdout",
     "output_type": "stream",
     "text": [
      "type of number <class 'str'>\n",
      "type of name <class 'str'>\n"
     ]
    }
   ],
   "source": [
    "# Printing type of input value\n",
    "print (\"type of number\", type(num))\n",
    "print (\"type of name\", type(name1))"
   ]
  },
  {
   "cell_type": "code",
   "execution_count": 9,
   "id": "a01351dd",
   "metadata": {},
   "outputs": [
    {
     "name": "stdout",
     "output_type": "stream",
     "text": [
      "plese enter number23\n",
      "plese enter number45\n"
     ]
    }
   ],
   "source": [
    "#TYPECASTING\n",
    "\n",
    "int1 = int(input(\"plese enter number\"))         #integer input\n",
    "float1 = float(input(\"plese enter number\"))     #float input"
   ]
  },
  {
   "cell_type": "code",
   "execution_count": 10,
   "id": "ea7df460",
   "metadata": {},
   "outputs": [
    {
     "name": "stdout",
     "output_type": "stream",
     "text": [
      "<class 'int'>\n",
      "<class 'float'>\n"
     ]
    }
   ],
   "source": [
    "print(type(int1))\n",
    "print(type(float1))"
   ]
  },
  {
   "cell_type": "raw",
   "id": "9e294814",
   "metadata": {},
   "source": [
    "MULTIPLE INPUTS"
   ]
  },
  {
   "cell_type": "code",
   "execution_count": 5,
   "id": "b5d64afa",
   "metadata": {},
   "outputs": [
    {
     "name": "stdout",
     "output_type": "stream",
     "text": [
      "please enter input12 23\n",
      "output value 1: 12\n",
      "output value 2: 23\n"
     ]
    }
   ],
   "source": [
    "x,y = input(\"please enter input\").split()\n",
    "print(\"output value 1:\",x)\n",
    "print(\"output value 2:\",y)"
   ]
  },
  {
   "cell_type": "code",
   "execution_count": 4,
   "id": "f73ea6b3",
   "metadata": {},
   "outputs": [
    {
     "name": "stdout",
     "output_type": "stream",
     "text": [
      "please enter number23 34\n",
      "first number is 23 and second number is 34\n"
     ]
    }
   ],
   "source": [
    "a,b = input(\"please enter number\").split()\n",
    "print(\"first number is {} and second number is {}\".format(a,b))"
   ]
  },
  {
   "cell_type": "code",
   "execution_count": 12,
   "id": "85e73789",
   "metadata": {},
   "outputs": [
    {
     "name": "stdout",
     "output_type": "stream",
     "text": [
      "please enter inputumesh ganesh mahesh\n",
      "output value 1: umesh\n",
      "output value 2: ganesh\n",
      "output value 2: mahesh\n"
     ]
    }
   ],
   "source": [
    "#taking three inputs at a time\n",
    "\n",
    "i,j,k = input(\"please enter input\").split()\n",
    "print(\"output value 1:\",i)\n",
    "print(\"output value 2:\",j)\n",
    "print(\"output value 2:\",k)"
   ]
  },
  {
   "cell_type": "raw",
   "id": "793a6170",
   "metadata": {},
   "source": [
    "The map() function executes a specified function for each item in an iterable. The item is sent to the function as a parameter."
   ]
  },
  {
   "cell_type": "code",
   "execution_count": 13,
   "id": "9e09b996",
   "metadata": {},
   "outputs": [
    {
     "name": "stdout",
     "output_type": "stream",
     "text": [
      "Enter multiple values: 12 34 56 67 78 89 09 12 336 34 78\n",
      "List of students:  [12, 34, 56, 67, 78, 89, 9, 12, 336, 34, 78]\n"
     ]
    }
   ],
   "source": [
    "x = list(map(int, input(\"Enter multiple values: \").split()))\n",
    "print(\"List of students: \", x)"
   ]
  },
  {
   "cell_type": "code",
   "execution_count": 15,
   "id": "bb165189",
   "metadata": {},
   "outputs": [
    {
     "name": "stdout",
     "output_type": "stream",
     "text": [
      "please enter input45 34\n",
      "First Number is:  45\n",
      "Second Number is:  34\n"
     ]
    }
   ],
   "source": [
    "# using List comprehension\n",
    "\n",
    "x,y = [int(x)  for x in input(\"please enter input\").split()]\n",
    "print(\"First Number is: \", x)\n",
    "print(\"Second Number is: \", y)"
   ]
  },
  {
   "cell_type": "code",
   "execution_count": null,
   "id": "2030b301",
   "metadata": {},
   "outputs": [],
   "source": [
    "#COUNTDOWN TIMER\n",
    "import time\n",
    "\n",
    "count_num = int(input(\"please enter time in sec:\"))\n",
    "for i in reversed(range(count_num+1)):\n",
    "    if i>0:\n",
    "        print(i,end=\">>>\")\n",
    "        time.sleep(1)\n",
    "    else:\n",
    "        print(\"start\")\n",
    "\t\t\n"
   ]
  },
  {
   "cell_type": "markdown",
   "id": "e99f9ba4",
   "metadata": {},
   "source": [
    "# OUTPUT"
   ]
  },
  {
   "cell_type": "code",
   "execution_count": 35,
   "id": "e41a6ed1",
   "metadata": {},
   "outputs": [
    {
     "name": "stdout",
     "output_type": "stream",
     "text": [
      "1 2 3 4 5 6\n"
     ]
    }
   ],
   "source": [
    "# using * symbol prints the list elements in a single line\n",
    "A = [1, 2, 3, 4, 5, 6]\n",
    " \n",
    "print(*A)"
   ]
  },
  {
   "cell_type": "code",
   "execution_count": 34,
   "id": "5df53d77",
   "metadata": {},
   "outputs": [
    {
     "name": "stdout",
     "output_type": "stream",
     "text": [
      "Myself UMESH I am from HYDERBAD"
     ]
    },
    {
     "data": {
      "text/plain": [
       "19"
      ]
     },
     "execution_count": 34,
     "metadata": {},
     "output_type": "execute_result"
    }
   ],
   "source": [
    "#Print without newline Using Python sys module\n",
    "import sys\n",
    "\n",
    "sys.stdout.write(\"Myself UMESH\")\n",
    "sys.stdout.write(\" I am from HYDERBAD\")"
   ]
  },
  {
   "cell_type": "code",
   "execution_count": 36,
   "id": "aa0d17c0",
   "metadata": {},
   "outputs": [
    {
     "name": "stdout",
     "output_type": "stream",
     "text": [
      "Welcome to MY WORLD "
     ]
    }
   ],
   "source": [
    "\n",
    "# ends the output with a space\n",
    "print(\"Welcome to\", end = ' ')\n",
    "print(\"MY WORLD\", end= ' ')"
   ]
  },
  {
   "cell_type": "code",
   "execution_count": 38,
   "id": "a9ee5336",
   "metadata": {},
   "outputs": [
    {
     "name": "stdout",
     "output_type": "stream",
     "text": [
      "umeshdudigani@gmail.com\n"
     ]
    }
   ],
   "source": [
    "\n",
    "# ends the output with '@'\n",
    "print(\"umeshdudigani\", end='@')\n",
    "print(\"gmail.com\")"
   ]
  },
  {
   "cell_type": "code",
   "execution_count": 40,
   "id": "73ee0d02",
   "metadata": {},
   "outputs": [
    {
     "name": "stdout",
     "output_type": "stream",
     "text": [
      "g hi\n"
     ]
    }
   ],
   "source": [
    "print('g','h',end='')     #by default space is printed btw items\n",
    "print('i')"
   ]
  },
  {
   "cell_type": "code",
   "execution_count": 41,
   "id": "946e7bed",
   "metadata": {},
   "outputs": [
    {
     "name": "stdout",
     "output_type": "stream",
     "text": [
      "ghi\n"
     ]
    }
   ],
   "source": [
    "print('g','h',sep='',end='')\n",
    "print('i')"
   ]
  },
  {
   "cell_type": "code",
   "execution_count": 42,
   "id": "a92fc1cb",
   "metadata": {},
   "outputs": [
    {
     "name": "stdout",
     "output_type": "stream",
     "text": [
      "09-12-2016\n"
     ]
    }
   ],
   "source": [
    "print('09','12','2016', sep='-')"
   ]
  },
  {
   "cell_type": "code",
   "execution_count": 43,
   "id": "0289160b",
   "metadata": {},
   "outputs": [
    {
     "name": "stdout",
     "output_type": "stream",
     "text": [
      "Dream-Plan-Work>>>SUCCESS\n"
     ]
    }
   ],
   "source": [
    "print('Dream','Plan','Work',sep='-',end='>>>')\n",
    "print(\"SUCCESS\")"
   ]
  },
  {
   "cell_type": "markdown",
   "id": "77070e5c",
   "metadata": {},
   "source": [
    "#  Operator"
   ]
  },
  {
   "cell_type": "code",
   "execution_count": 44,
   "id": "daed1318",
   "metadata": {},
   "outputs": [],
   "source": [
    "a,b = 10,20\n",
    "min = a if a<b else b"
   ]
  },
  {
   "cell_type": "code",
   "execution_count": 45,
   "id": "5aa8e7e1",
   "metadata": {},
   "outputs": [
    {
     "name": "stdout",
     "output_type": "stream",
     "text": [
      "10\n"
     ]
    }
   ],
   "source": [
    "print(min)"
   ]
  },
  {
   "cell_type": "code",
   "execution_count": 46,
   "id": "f8271df0",
   "metadata": {},
   "outputs": [
    {
     "name": "stdout",
     "output_type": "stream",
     "text": [
      "b is greater than a\n"
     ]
    }
   ],
   "source": [
    "#NATIVE METHOD\n",
    "a, b = 10, 20\n",
    " \n",
    "if a != b:\n",
    "    if a > b:\n",
    "        print(\"a is greater than b\")\n",
    "    else:\n",
    "        print(\"b is greater than a\")\n",
    "else:\n",
    "    print(\"Both a and b are equal\")"
   ]
  },
  {
   "cell_type": "code",
   "execution_count": 47,
   "id": "04fd7a9f",
   "metadata": {},
   "outputs": [
    {
     "name": "stdout",
     "output_type": "stream",
     "text": [
      " b is greater than a\n"
     ]
    }
   ],
   "source": [
    "#USING Ternary Operator\n",
    "a , b = 10,20\n",
    "print('a and b are equal' if a==b else \"a is greater than b\" if a>b else \" b is greater than a\")"
   ]
  },
  {
   "cell_type": "markdown",
   "id": "d302e072",
   "metadata": {},
   "source": [
    "# AND ALL"
   ]
  },
  {
   "cell_type": "code",
   "execution_count": 2,
   "id": "47ebd98a",
   "metadata": {},
   "outputs": [
    {
     "name": "stdout",
     "output_type": "stream",
     "text": [
      "False\n",
      "True\n",
      "True\n"
     ]
    }
   ],
   "source": [
    "\n",
    "# Since all are false, false is returned\n",
    "print (any([False, False, False, False]))\n",
    " \n",
    "# Here the method will short-circuit at the\n",
    "# second item (True) and will return True.\n",
    "print (any([False, True, False, False]))\n",
    " \n",
    "# Here the method will short-circuit at the\n",
    "# first (True) and will return True.\n",
    "print (any([True, False, False, False]))"
   ]
  },
  {
   "cell_type": "code",
   "execution_count": 3,
   "id": "ac00a9b8",
   "metadata": {},
   "outputs": [
    {
     "name": "stdout",
     "output_type": "stream",
     "text": [
      "True\n",
      "False\n",
      "False\n"
     ]
    }
   ],
   "source": [
    "# Here all the iterables are True so all\n",
    "# will return True and the same will be printed\n",
    "print (all([True, True, True, True]))\n",
    " \n",
    "# Here the method will short-circuit at the \n",
    "# first item (False) and will return False.\n",
    "print (all([False, True, True, False]))\n",
    " \n",
    "# This statement will return False, as no\n",
    "# True is found in the iterables\n",
    "print (all([False, False, False]))"
   ]
  },
  {
   "cell_type": "code",
   "execution_count": 4,
   "id": "996ff1b8",
   "metadata": {},
   "outputs": [
    {
     "name": "stdout",
     "output_type": "stream",
     "text": [
      "[4, 8, 12, 16, 20, 24, 28, 32, 36, 40]\n"
     ]
    }
   ],
   "source": [
    "LIST1 = []\n",
    "LIST2 = []\n",
    "\n",
    "for i in range(1,11):\n",
    "    LIST1.append(4*i)\n",
    "    \n",
    "print(LIST1)"
   ]
  },
  {
   "cell_type": "code",
   "execution_count": 6,
   "id": "f63ce073",
   "metadata": {},
   "outputs": [
    {
     "data": {
      "text/plain": [
       "[False,\n",
       " False,\n",
       " False,\n",
       " True,\n",
       " False,\n",
       " False,\n",
       " False,\n",
       " False,\n",
       " True,\n",
       " False,\n",
       " False,\n",
       " False,\n",
       " False,\n",
       " True,\n",
       " False,\n",
       " False,\n",
       " False,\n",
       " False,\n",
       " True]"
      ]
     },
     "execution_count": 6,
     "metadata": {},
     "output_type": "execute_result"
    }
   ],
   "source": [
    "for i in range(0,10):\n",
    "    LIST2.append(LIST1[i]%5==0)\n",
    "    \n",
    "LIST2"
   ]
  },
  {
   "cell_type": "code",
   "execution_count": 7,
   "id": "24870520",
   "metadata": {},
   "outputs": [
    {
     "name": "stdout",
     "output_type": "stream",
     "text": [
      "True\n"
     ]
    }
   ],
   "source": [
    "print(any(LIST2))"
   ]
  },
  {
   "cell_type": "code",
   "execution_count": 8,
   "id": "27a75948",
   "metadata": {},
   "outputs": [
    {
     "data": {
      "text/plain": [
       "[1, 5, 9, 13, 17, 21, 25, 29, 33, 37, 41, 45, 49, 53, 57, 61, 65, 69, 73, 77]"
      ]
     },
     "execution_count": 8,
     "metadata": {},
     "output_type": "execute_result"
    }
   ],
   "source": [
    "list1=[]\n",
    "list2=[]\n",
    " \n",
    "# All numbers in list1 are in form: 4*i-3\n",
    "for i  in range(1,21):\n",
    "    list1.append(4*i-3)\n",
    "    \n",
    "list1"
   ]
  },
  {
   "cell_type": "code",
   "execution_count": 9,
   "id": "69173819",
   "metadata": {},
   "outputs": [
    {
     "name": "stdout",
     "output_type": "stream",
     "text": [
      "See whether all numbers in list1 are odd =>\n",
      "True\n"
     ]
    }
   ],
   "source": [
    " # list2 stores info of odd numbers in list1\n",
    "for i in range(0,20):\n",
    "    list2.append(list1[i]%2==1)\n",
    " \n",
    "print('See whether all numbers in list1 are odd =>')\n",
    "print(all(list2))"
   ]
  },
  {
   "cell_type": "markdown",
   "id": "a314cfa3",
   "metadata": {},
   "source": [
    "# INBUILT OPERATOR FUNCTION"
   ]
  },
  {
   "cell_type": "code",
   "execution_count": 10,
   "id": "fdb888ec",
   "metadata": {},
   "outputs": [],
   "source": [
    "import operator"
   ]
  },
  {
   "cell_type": "code",
   "execution_count": 12,
   "id": "d6333865",
   "metadata": {},
   "outputs": [
    {
     "name": "stdout",
     "output_type": "stream",
     "text": [
      "addition:  9\n",
      "Subtraction:  -5\n",
      "Multiplication:  14\n",
      "Division:  0.2857142857142857\n"
     ]
    }
   ],
   "source": [
    "a = 2\n",
    "b = 7\n",
    "print('addition: ',operator.add(a,b))\n",
    "print('Subtraction: ',operator.sub(a,b))\n",
    "print('Multiplication: ',operator.mul(a,b))\n",
    "print('Division: ',operator.truediv(a,b))"
   ]
  },
  {
   "cell_type": "code",
   "execution_count": 16,
   "id": "51f994db",
   "metadata": {},
   "outputs": [
    {
     "name": "stdout",
     "output_type": "stream",
     "text": [
      "Floor Division:  0\n",
      "Power:  128\n",
      "Reminder:  2\n"
     ]
    }
   ],
   "source": [
    "print('Floor Division: ',operator.floordiv(a,b))\n",
    "print('Power: ',operator.pow(a,b))\n",
    "print('Reminder: ',operator.mod(a,b))"
   ]
  },
  {
   "cell_type": "code",
   "execution_count": 18,
   "id": "76804d54",
   "metadata": {},
   "outputs": [],
   "source": [
    "li = [1, 5, 6, 7, 8] "
   ]
  },
  {
   "cell_type": "code",
   "execution_count": 20,
   "id": "d3cba92b",
   "metadata": {},
   "outputs": [
    {
     "name": "stdout",
     "output_type": "stream",
     "text": [
      "1 5 6 7 8 "
     ]
    }
   ],
   "source": [
    "for i in range(0,len(li)): \n",
    "    print (li[i],end=\" \")"
   ]
  },
  {
   "cell_type": "code",
   "execution_count": 22,
   "id": "8553fb44",
   "metadata": {},
   "outputs": [],
   "source": [
    "operator.setitem(li,3,3)              #to assign a value at particular position"
   ]
  },
  {
   "cell_type": "code",
   "execution_count": 23,
   "id": "55405a53",
   "metadata": {},
   "outputs": [
    {
     "name": "stdout",
     "output_type": "stream",
     "text": [
      "1 5 6 3 8 "
     ]
    }
   ],
   "source": [
    "for i in range(0,len(li)): \n",
    "    print (li[i],end=\" \") "
   ]
  },
  {
   "cell_type": "code",
   "execution_count": null,
   "id": "30a853ee",
   "metadata": {},
   "outputs": [],
   "source": []
  }
 ],
 "metadata": {
  "kernelspec": {
   "display_name": "Python 3 (ipykernel)",
   "language": "python",
   "name": "python3"
  },
  "language_info": {
   "codemirror_mode": {
    "name": "ipython",
    "version": 3
   },
   "file_extension": ".py",
   "mimetype": "text/x-python",
   "name": "python",
   "nbconvert_exporter": "python",
   "pygments_lexer": "ipython3",
   "version": "3.11.4"
  }
 },
 "nbformat": 4,
 "nbformat_minor": 5
}
