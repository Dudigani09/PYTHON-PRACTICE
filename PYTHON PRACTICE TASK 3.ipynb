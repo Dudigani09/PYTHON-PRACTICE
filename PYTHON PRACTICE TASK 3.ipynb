{
 "cells": [
  {
   "cell_type": "markdown",
   "id": "a55aece7",
   "metadata": {},
   "source": [
    "# FUNCTIONS"
   ]
  },
  {
   "cell_type": "code",
   "execution_count": 1,
   "id": "a9c6e9f9",
   "metadata": {},
   "outputs": [
    {
     "name": "stdout",
     "output_type": "stream",
     "text": [
      "even\n",
      "odd\n"
     ]
    }
   ],
   "source": [
    "def evenOdd(x):\n",
    "    if (x % 2 == 0):\n",
    "        print(\"even\")\n",
    "    else:\n",
    "        print(\"odd\")\n",
    " \n",
    " \n",
    "# Driver code to call the function\n",
    "evenOdd(2)\n",
    "evenOdd(3)"
   ]
  },
  {
   "cell_type": "code",
   "execution_count": 2,
   "id": "2b3e14b6",
   "metadata": {},
   "outputs": [
    {
     "name": "stdout",
     "output_type": "stream",
     "text": [
      "first number is 10 and second number is 30\n"
     ]
    }
   ],
   "source": [
    "def fun_1(x,y=30):\n",
    "    print(f\"first number is {x} and second number is {y}\")\n",
    "    \n",
    "fun_1(10)"
   ]
  },
  {
   "cell_type": "code",
   "execution_count": 5,
   "id": "7f51afa1",
   "metadata": {},
   "outputs": [
    {
     "name": "stdout",
     "output_type": "stream",
     "text": [
      "UMESH ISHU\n",
      "panda buggu\n"
     ]
    }
   ],
   "source": [
    "def fun_name(firstname,secondname):\n",
    "    print(firstname,secondname)\n",
    "    \n",
    "fun_name(firstname=\"UMESH\",secondname=\"ISHU\")\n",
    "fun_name(firstname=\"panda\",secondname=\"buggu\")"
   ]
  },
  {
   "cell_type": "code",
   "execution_count": 6,
   "id": "650ddca1",
   "metadata": {},
   "outputs": [
    {
     "name": "stdout",
     "output_type": "stream",
     "text": [
      "Hello\n",
      "Beautiful\n",
      "Welcome\n",
      "To\n",
      "Myworld\n"
     ]
    }
   ],
   "source": [
    "def fun1_name(*args):\n",
    "    for i in args:\n",
    "        print(i)\n",
    "fun1_name('Hello','Beautiful','Welcome','To','Myworld')"
   ]
  },
  {
   "cell_type": "code",
   "execution_count": 19,
   "id": "44bf8078",
   "metadata": {},
   "outputs": [
    {
     "name": "stdout",
     "output_type": "stream",
     "text": [
      "First argument : Hello\n",
      "Next argument through *argv : Welcome\n",
      "Next argument through *argv : to\n",
      "Next argument through *argv : Myworld\n"
     ]
    }
   ],
   "source": [
    "def myFun(arg1, *argv):\n",
    "    print(\"First argument :\", arg1)\n",
    "    for arg in argv:\n",
    "        print(\"Next argument through *argv :\", arg)\n",
    " \n",
    " \n",
    "myFun('Hello', 'Welcome', 'to', 'Myworld')"
   ]
  },
  {
   "cell_type": "code",
   "execution_count": 11,
   "id": "7519d513",
   "metadata": {},
   "outputs": [
    {
     "name": "stdout",
     "output_type": "stream",
     "text": [
      "first = UMESH\n",
      "Last = Dudigani\n",
      "Grade = B.E.\n",
      "college = SBU\n"
     ]
    }
   ],
   "source": [
    "def fun(**kwargs):\n",
    "    for i,j in kwargs.items():\n",
    "        print(\"%s = %s\"% (i,j))\n",
    "fun(first='UMESH',Last='Dudigani',Grade='B.E.',college='SBU')"
   ]
  },
  {
   "cell_type": "code",
   "execution_count": 20,
   "id": "a775ee5d",
   "metadata": {},
   "outputs": [
    {
     "name": "stdout",
     "output_type": "stream",
     "text": [
      "arg1: MY\n",
      "arg2: NAME\n",
      "arg3: IS UMESH\n",
      "arg1: UMESH\n",
      "arg2: DUDIGANI\n",
      "arg3: DAIMOND\n"
     ]
    }
   ],
   "source": [
    "def myFun(arg1, arg2, arg3):\n",
    "    print(\"arg1:\", arg1)\n",
    "    print(\"arg2:\", arg2)\n",
    "    print(\"arg3:\", arg3)\n",
    " \n",
    " \n",
    "# Now we can use *args or **kwargs to\n",
    "# pass arguments to this function :\n",
    "args = (\"MY\", \"NAME\", \"IS UMESH\")\n",
    "myFun(*args)\n",
    " \n",
    "kwargs = {\"arg1\": \"UMESH\", \"arg2\": \"DUDIGANI\", \"arg3\": \"DAIMOND\"}\n",
    "myFun(**kwargs)"
   ]
  },
  {
   "cell_type": "code",
   "execution_count": 21,
   "id": "de50b862",
   "metadata": {},
   "outputs": [
    {
     "name": "stdout",
     "output_type": "stream",
     "text": [
      "args:  ('geeks', 'for', 'geeks')\n",
      "kwargs:  {'first': 'Geeks', 'mid': 'for', 'last': 'Geeks'}\n"
     ]
    }
   ],
   "source": [
    "def myFun(*args, **kwargs):\n",
    "    print(\"args: \", args)\n",
    "    print(\"kwargs: \", kwargs)\n",
    " \n",
    " \n",
    "# Now we can use both *args ,**kwargs\n",
    "# to pass arguments to this function :\n",
    "myFun('geeks', 'for', 'geeks', first=\"Geeks\", mid=\"for\", last=\"Geeks\")"
   ]
  },
  {
   "cell_type": "code",
   "execution_count": 27,
   "id": "d6aaa2c9",
   "metadata": {},
   "outputs": [
    {
     "name": "stdout",
     "output_type": "stream",
     "text": [
      "red\n",
      "300\n"
     ]
    }
   ],
   "source": [
    "class car():\n",
    "    def __init__(self,*args):\n",
    "        self.speed = args[0]\n",
    "        self.color = args[1]\n",
    "audi = car(250,'red')\n",
    "bmw = car(300,'black')\n",
    "    \n",
    "print(audi.color)\n",
    "print(bmw.speed)"
   ]
  },
  {
   "cell_type": "code",
   "execution_count": 28,
   "id": "e07a635a",
   "metadata": {},
   "outputs": [
    {
     "name": "stdout",
     "output_type": "stream",
     "text": [
      "navy blue\n",
      "350\n"
     ]
    }
   ],
   "source": [
    "class cars():\n",
    "    def __init__(self,**kwargs):\n",
    "        self.speed = kwargs['s']\n",
    "        self.color = kwargs['c']\n",
    "Bugati = cars(s=400,c='navy blue')\n",
    "Rollsroyce = cars(s=350,c=\"white ghost\")\n",
    "\n",
    "print(Bugati.color)\n",
    "print(Rollsroyce.speed)"
   ]
  },
  {
   "cell_type": "raw",
   "id": "2cd8631b",
   "metadata": {},
   "source": [
    "The first string after the function is called the Document string or Docstring in short. \n",
    "Syntax: print(function_name.__doc__)"
   ]
  },
  {
   "cell_type": "code",
   "execution_count": 14,
   "id": "576fb07b",
   "metadata": {},
   "outputs": [
    {
     "name": "stdout",
     "output_type": "stream",
     "text": [
      "function of even or odd\n"
     ]
    }
   ],
   "source": [
    "def fun2(x):\n",
    "    \"function of even or odd\"\n",
    "    if x%2==0:\n",
    "        print(\"even\")\n",
    "    else:\n",
    "        print(\"odd\")\n",
    "print(fun2.__doc__)"
   ]
  },
  {
   "cell_type": "raw",
   "id": "503cd9ba",
   "metadata": {},
   "source": [
    "ANONYMOUUS FUNCTION (LAMBDA FUNCTION)"
   ]
  },
  {
   "cell_type": "code",
   "execution_count": 16,
   "id": "efbd6668",
   "metadata": {},
   "outputs": [
    {
     "name": "stdout",
     "output_type": "stream",
     "text": [
      "25\n"
     ]
    }
   ],
   "source": [
    "def square(x): return x*x\n",
    "print(square(5))"
   ]
  },
  {
   "cell_type": "code",
   "execution_count": 18,
   "id": "f3e9ddf9",
   "metadata": {},
   "outputs": [
    {
     "name": "stdout",
     "output_type": "stream",
     "text": [
      "16\n"
     ]
    }
   ],
   "source": [
    "square1 = lambda x : x*x\n",
    "print(square1(4))"
   ]
  },
  {
   "cell_type": "raw",
   "id": "b6d83187",
   "metadata": {},
   "source": [
    "A generator function in Python is defined like a normal function, but whenever it needs to generate a value, it does so with the yield keyword rather than return. If the body of a def contains yield, the function automatically becomes a Python generator function. \n",
    "def function_name():\n",
    "    yield statement "
   ]
  },
  {
   "cell_type": "code",
   "execution_count": null,
   "id": "5a021888",
   "metadata": {},
   "outputs": [],
   "source": []
  }
 ],
 "metadata": {
  "kernelspec": {
   "display_name": "Python 3 (ipykernel)",
   "language": "python",
   "name": "python3"
  },
  "language_info": {
   "codemirror_mode": {
    "name": "ipython",
    "version": 3
   },
   "file_extension": ".py",
   "mimetype": "text/x-python",
   "name": "python",
   "nbconvert_exporter": "python",
   "pygments_lexer": "ipython3",
   "version": "3.11.4"
  }
 },
 "nbformat": 4,
 "nbformat_minor": 5
}
