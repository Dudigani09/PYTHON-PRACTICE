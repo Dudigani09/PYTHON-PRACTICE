{
 "cells": [
  {
   "cell_type": "code",
   "execution_count": null,
   "id": "b82779d8",
   "metadata": {},
   "outputs": [],
   "source": []
  },
  {
   "cell_type": "code",
   "execution_count": 1,
   "id": "0dbab00c",
   "metadata": {
    "ExecuteTime": {
     "end_time": "2023-12-08T14:01:45.661363Z",
     "start_time": "2023-12-08T14:01:45.653383Z"
    }
   },
   "outputs": [
    {
     "name": "stdout",
     "output_type": "stream",
     "text": [
      "16gb, 1TBsdd , i7\n"
     ]
    }
   ],
   "source": [
    "class Computer:\n",
    "    def config(self):\n",
    "        print(\"16gb, 1TBsdd , i7\")\n",
    "        \n",
    "com1= Computer()\n",
    "com1.config()"
   ]
  },
  {
   "cell_type": "code",
   "execution_count": 2,
   "id": "6d41941e",
   "metadata": {},
   "outputs": [
    {
     "name": "stdout",
     "output_type": "stream",
     "text": [
      "INIT FUNCTION\n",
      "INIT FUNCTION\n",
      "MYSELF i5 16\n",
      "MYSELF amd 8\n"
     ]
    }
   ],
   "source": [
    " class Comp:\n",
    "        def __init__(self,cpu,ram):\n",
    "            self.cpu = cpu\n",
    "            self.ram = ram\n",
    "            print(\"INIT FUNCTION\")\n",
    "            \n",
    "            \n",
    "        def conf(self):\n",
    "            print(\"MYSELF\",self.cpu,self.ram)\n",
    "            \n",
    "            \n",
    "cpo = Comp('i5',16)\n",
    "rpo = Comp('amd' , 8)\n",
    "\n",
    "cpo.conf()\n",
    "rpo.conf()"
   ]
  },
  {
   "cell_type": "code",
   "execution_count": 3,
   "id": "ee976dab",
   "metadata": {},
   "outputs": [
    {
     "name": "stdout",
     "output_type": "stream",
     "text": [
      "NAVEEN\n",
      "NAVEEN\n",
      "love\n",
      "NAVEEN\n"
     ]
    }
   ],
   "source": [
    "class detail:\n",
    "    def __init__(self):\n",
    "        self.name = \"NAVEEN\"\n",
    "        self.age = 34\n",
    "        \n",
    "d1 = detail()\n",
    "d2 = detail()\n",
    "\n",
    "print(d1.name)\n",
    "print(d2.name)\n",
    "\n",
    "d1.name=\"love\"\n",
    "print(d1.name)\n",
    "print(d2.name)"
   ]
  },
  {
   "cell_type": "code",
   "execution_count": 14,
   "id": "61fe6ed3",
   "metadata": {},
   "outputs": [
    {
     "name": "stdout",
     "output_type": "stream",
     "text": [
      "BMW 4 12\n",
      "BMW 4 12\n",
      "BENZ\n",
      "BMW\n",
      "4\n",
      "6\n"
     ]
    }
   ],
   "source": [
    "class Car:\n",
    "    wheel = 4\n",
    "    def __init__(self):\n",
    "        self.name = 'BMW'   #Instance variable\n",
    "        self.mil = 12\n",
    "        \n",
    "c = Car()\n",
    "c2 = Car()\n",
    "\n",
    "print(c.name,c.wheel,c.mil)\n",
    "print(c2.name,c2.wheel,c2.mil)\n",
    "c1.name='BENZ'\n",
    "print(c1.name)\n",
    "print(c2.name)\n",
    "\n",
    "Car.wheel = 6\n",
    "\n",
    "print(c1.wheel)\n",
    "print(c2.wheel)"
   ]
  },
  {
   "cell_type": "code",
   "execution_count": 4,
   "id": "f8f59c70",
   "metadata": {},
   "outputs": [
    {
     "name": "stdout",
     "output_type": "stream",
     "text": [
      "THE DOG NAME IS JUNNU\n",
      "THE DOG NAME IS MUNNU\n"
     ]
    }
   ],
   "source": [
    "class dog:\n",
    "    def __init__(self,name):\n",
    "        self.name = name\n",
    "    def speak(self): \n",
    "        return \"THE DOG NAME IS {}\".format(self.name)\n",
    "    \n",
    "dog1 = dog(\"JUNNU\")\n",
    "dog2 = dog(\"MUNNU\")\n",
    "\n",
    "print(dog1.speak())\n",
    "print(dog2.speak())"
   ]
  },
  {
   "cell_type": "markdown",
   "id": "216def76",
   "metadata": {},
   "source": [
    "DIFFERENT METHODS"
   ]
  },
  {
   "cell_type": "code",
   "execution_count": 8,
   "id": "9528a16c",
   "metadata": {},
   "outputs": [
    {
     "name": "stdout",
     "output_type": "stream",
     "text": [
      "UMESH HYDERABAD\n",
      "DAIMOND\n",
      "I am UMESH and I will Teach PYTHON\n",
      "I am DAIMOND and I will Teach DATA SCIENCE\n",
      "1\n"
     ]
    }
   ],
   "source": [
    "class Instructor:\n",
    "    followers = 0\n",
    "    def __init__(self,name,address):\n",
    "        self.name = name\n",
    "        self.address = address\n",
    "        \n",
    "    def display(self,subject_name):\n",
    "        print(f\"I am {self.name} and I will Teach {subject_name}\")\n",
    "    def follower_up(self,follow_name):\n",
    "        self.followers +=1\n",
    "        return self.followers\n",
    "        \n",
    "instructor_1 = Instructor(\"UMESH\",'HYDERABAD')\n",
    "instructor_2 = Instructor('DAIMOND','SURYAPET')\n",
    "print(instructor_1.name,instructor_1.address)\n",
    "print(instructor_2.name)\n",
    "instructor_1.display(\"PYTHON\")\n",
    "instructor_2.display(\"DATA SCIENCE\")\n",
    "print(instructor_1.follower_up(\"myself\"))"
   ]
  },
  {
   "cell_type": "code",
   "execution_count": 17,
   "id": "c19a36fb",
   "metadata": {},
   "outputs": [
    {
     "name": "stdout",
     "output_type": "stream",
     "text": [
      "37.666666666666664\n",
      "45.666666666666664\n",
      "SATHYABAMA\n",
      "this is a static method\n"
     ]
    }
   ],
   "source": [
    "class Student:\n",
    "    schoolname=\"SATHYABAMA\"\n",
    "    def __init__(self,m1,m2,m3):\n",
    "        self.m1=m1\n",
    "        self.m2=m2\n",
    "        self.m3=m3\n",
    "    def avg(self):\n",
    "        return (self.m1+self.m2+self.m3)/3\n",
    "\n",
    "    @classmethod\n",
    "    def get_method(cls):\n",
    "        return cls.schoolname\n",
    "    \n",
    "    @staticmethod\n",
    "    def info():\n",
    "        return 'this is a static method'\n",
    "    \n",
    "s1 = Student(23,34,56)\n",
    "s2 = Student(12,47,78)\n",
    "\n",
    "print(s1.avg())\n",
    "print(s2.avg())\n",
    "\n",
    "print(Student.get_method())\n",
    "print(Student.info())"
   ]
  },
  {
   "cell_type": "code",
   "execution_count": 23,
   "id": "f338dd6a",
   "metadata": {},
   "outputs": [
    {
     "name": "stdout",
     "output_type": "stream",
     "text": [
      "Umesh 45\n",
      "HP I7 16\n",
      "Daimond 85\n",
      "HP I7 16\n"
     ]
    }
   ],
   "source": [
    "class Student:\n",
    "    def __init__(self,name,rollno):\n",
    "        self.name = name\n",
    "        self.rollno = rollno\n",
    "        self.Laptop = self.Laptop()\n",
    "        \n",
    "    def showw(self):\n",
    "        print(self.name,self.rollno)\n",
    "        self.Laptop.show()\n",
    "    \n",
    "    \n",
    "    class Laptop:\n",
    "        def __init__(self):\n",
    "            self.brand = 'HP'\n",
    "            self.ram = 16\n",
    "            self.cpu = 'I7'\n",
    "        def show(self):\n",
    "            \n",
    "            print(self.brand,self.cpu,self.ram)\n",
    "            \n",
    "s1 = Student(\"Umesh\",45)\n",
    "s2 = Student(\"Daimond\",85)\n",
    "\n",
    "lap1 = Student.Laptop()\n",
    "lap2 = Student.Laptop()\n",
    "\n",
    "s1.showw()\n",
    "s2.showw()"
   ]
  },
  {
   "cell_type": "markdown",
   "id": "ba323b3a",
   "metadata": {},
   "source": [
    "INHERITANCE\n",
    "\n",
    "\n",
    "SINGLE INHERITANCE"
   ]
  },
  {
   "cell_type": "code",
   "execution_count": 17,
   "id": "17a62c60",
   "metadata": {},
   "outputs": [
    {
     "name": "stdout",
     "output_type": "stream",
     "text": [
      "UMESH\n",
      "I CAN code\n",
      "None\n",
      "I can flirt\n",
      "None\n",
      "1\n",
      "I can eat\n",
      "None\n",
      "2 1\n"
     ]
    }
   ],
   "source": [
    "class Human:\n",
    "    def __init__(self,heart_num):\n",
    "        self.heart_num = heart_num\n",
    "        self.eyes = 2\n",
    "        self.nose = 1\n",
    "    \n",
    "    def work(self):\n",
    "        print(\"I CAN WORK\")\n",
    "    def eat(self):\n",
    "        print(\"I can eat\")\n",
    "        \n",
    "class Male(Human):\n",
    "    def __init__(self,name,heart):\n",
    "        super().__init__(heart)\n",
    "        self.name=name\n",
    "    def work(self):\n",
    "        print(\"I CAN code\")\n",
    "    def flirt(self):\n",
    "        print(\"I can flirt\")\n",
    "    def display(self):\n",
    "        print(\"I can\")\n",
    "        \n",
    "male1 = Male(\"UMESH\",1)\n",
    "print(male1.name)\n",
    "print(male1.work())\n",
    "print(male1.flirt())\n",
    "print(male1.heart_num)\n",
    "print(male1.eat())\n",
    "print(male1.eyes,male1.nose)\n"
   ]
  },
  {
   "cell_type": "code",
   "execution_count": 5,
   "id": "e569a174",
   "metadata": {},
   "outputs": [
    {
     "name": "stdout",
     "output_type": "stream",
     "text": [
      "('RAHUL', 1098)\n",
      "THE EMPLOYEE NAMED RAHUL AND ID 1098 HAS GOT SALARY OF 70000 FOR INTERN POST\n",
      "THE EMPLOYEE NAMED RAHUL AND ID 1098 HAS GOT SALARY OF 70000 FOR INTERN POST\n"
     ]
    }
   ],
   "source": [
    "class Person:\n",
    "    def __init__(self,name,idnum):\n",
    "        self.name = name\n",
    "        self.idnum = idnum\n",
    "    def display(self):\n",
    "        return self.name,self.idnum\n",
    "    def detail(self):\n",
    "        return \"THE EMPLOYEE NAMED {} AND ID {} IS IN OFFICE RIGHT NOW\".format(self.name,self.self.idnum)\n",
    "class Employee(Person):\n",
    "    def __init__(self,name,idnum,salary,post):\n",
    "        self.salary = salary\n",
    "        self.post = post\n",
    "        \n",
    "        Person.__init__(self,name,idnum)\n",
    "    \n",
    "    def details(self):\n",
    "        return \"THE EMPLOYEE NAMED {} AND ID {} HAS GOT SALARY OF {} FOR {} POST\".format(self.name,self.idnum,self.salary,self.post)\n",
    "    \n",
    "        \n",
    "    def details1(self):\n",
    "        return \"THE EMPLOYEE NAMED {} AND ID {} HAS GOT SALARY OF {} FOR {} POST\".format(self.name,self.idnum,self.salary,self.post)\n",
    "    \n",
    "objject = Employee('RAHUL',1098,70000,'INTERN')\n",
    "\n",
    "print(objject.display())\n",
    "print(objject.details1())\n",
    "print(objject.details())"
   ]
  },
  {
   "cell_type": "code",
   "execution_count": 24,
   "id": "456f9c0c",
   "metadata": {},
   "outputs": [
    {
     "name": "stdout",
     "output_type": "stream",
     "text": [
      "INIT A\n",
      "INIT B\n"
     ]
    }
   ],
   "source": [
    "class A:\n",
    "    def __init__(self):\n",
    "        print(\"INIT A\")\n",
    "        \n",
    "    def feature1(self):\n",
    "        print(\"this is feature1\")\n",
    "    def feature2(self):\n",
    "        print(\"this is feature2\")\n",
    "        \n",
    "class B(A):\n",
    "    \n",
    "    def __init__(self):\n",
    "        super().__init__()\n",
    "        print(\"INIT B\")\n",
    "        \n",
    "    def feature3(self):\n",
    "        print(\"this is feature3\")\n",
    "        \n",
    "    def feature4(self):\n",
    "        print(\"this is feature4\")\n",
    "        \n",
    "b=B()\n"
   ]
  },
  {
   "cell_type": "markdown",
   "id": "be2b16f6",
   "metadata": {},
   "source": [
    "MULTIPLE INHERITANCE"
   ]
  },
  {
   "cell_type": "code",
   "execution_count": 27,
   "id": "2447e291",
   "metadata": {},
   "outputs": [
    {
     "name": "stdout",
     "output_type": "stream",
     "text": [
      "INIT A\n",
      "INIT c\n"
     ]
    }
   ],
   "source": [
    "class A:\n",
    "    def __init__(self):\n",
    "        print(\"INIT A\")\n",
    "        \n",
    "    def feature1(self):\n",
    "        print(\"this is feature1\")\n",
    "    def feature2(self):\n",
    "        print(\"this is feature2\")\n",
    "        \n",
    "class B:\n",
    "    \n",
    "    def __init__(self):\n",
    "        super().__init__()\n",
    "        print(\"INIT B\")\n",
    "        \n",
    "    def feature3(self):\n",
    "        print(\"this is feature3\")\n",
    "        \n",
    "    def feature4(self):\n",
    "        print(\"this is feature4\")\n",
    "        \n",
    "class C(A,B):\n",
    "    \n",
    "    def __init__(self):\n",
    "        super().__init__()\n",
    "        print(\"INIT c\")\n",
    "        \n",
    "cls1 = C()"
   ]
  },
  {
   "cell_type": "code",
   "execution_count": 1,
   "id": "0fc070fe",
   "metadata": {
    "ExecuteTime": {
     "end_time": "2023-12-08T14:15:18.415917Z",
     "start_time": "2023-12-08T14:15:18.409926Z"
    }
   },
   "outputs": [
    {
     "name": "stdout",
     "output_type": "stream",
     "text": [
      "I CAN test\n",
      "I CAN code\n",
      "[<class '__main__.Boy'>, <class '__main__.Human'>, <class '__main__.Male'>, <class 'object'>]\n"
     ]
    }
   ],
   "source": [
    "class Human:\n",
    "    def work(self):\n",
    "        print(\"I CAN WORK\")\n",
    "    def eat(self):\n",
    "        print(\"I can eat\")\n",
    "        \n",
    "class Male:\n",
    "    def flirt(self):\n",
    "        print(\"I can FLIRT\")\n",
    "        \n",
    "    def work(self):\n",
    "        print(\"I CAN code\")\n",
    "        \n",
    "    \n",
    "    \n",
    "class Boy(Human,Male):\n",
    "    def work(self):\n",
    "        print(\"I CAN test\")\n",
    "\n",
    "boy_1 = Boy()\n",
    "boy_1.work()\n",
    "Male.work(boy_1)\n",
    "print(Boy.mro())"
   ]
  },
  {
   "cell_type": "code",
   "execution_count": 6,
   "id": "3661a81a",
   "metadata": {
    "ExecuteTime": {
     "end_time": "2023-12-08T15:17:20.476173Z",
     "start_time": "2023-12-08T15:17:20.457677Z"
    }
   },
   "outputs": [
    {
     "name": "stdout",
     "output_type": "stream",
     "text": [
      "calling INIT from human\n",
      "calling INIT from male\n",
      "1\n"
     ]
    },
    {
     "data": {
      "text/plain": [
       "' A Person Named UMESH have 1 Heart and speak ENGLISH and teach DATA SCIENCE'"
      ]
     },
     "execution_count": 6,
     "metadata": {},
     "output_type": "execute_result"
    }
   ],
   "source": [
    "class Human:\n",
    "    def __init__(self,num_heart):\n",
    "        print(\"calling INIT from human\")\n",
    "        self.eyes = 2\n",
    "        self.nose = 1\n",
    "        self.num_heart=num_heart\n",
    "    def work(self):\n",
    "        print(\"I CAN WORK\")\n",
    "    def eat(self):\n",
    "        print(\"I can eat\")\n",
    "        \n",
    "class Male:\n",
    "    def __init__(self,name):\n",
    "        print(\"calling INIT from male\")\n",
    "        self.name = name\n",
    "    def flirt(self):\n",
    "        print(\"I can FLIRT\")\n",
    "        \n",
    "    def work(self):\n",
    "        print(\"I CAN code\")\n",
    "        \n",
    "    \n",
    "    \n",
    "class Boy(Human,Male):\n",
    "    def __init__(self,name,num_heart,lang):\n",
    "        Human.__init__(self,num_heart)\n",
    "        Male.__init__(self,name)\n",
    "        self.lang = lang\n",
    "    def work(self):\n",
    "        print(\"I CAN test\")\n",
    "    def display(self,subname):\n",
    "        return f\" A Person Named {self.name} have {self.num_heart} Heart and speak {self.lang} and teach {subname}\"\n",
    "boy1 = Boy(\"UMESH\",1,\"ENGLISH\")\n",
    "print(boy1.nose)\n",
    "boy1.display(\"DATA SCIENCE\")"
   ]
  },
  {
   "cell_type": "markdown",
   "id": "15f3b4c6",
   "metadata": {},
   "source": [
    "MULTILEVEL INHERITANCE"
   ]
  },
  {
   "cell_type": "code",
   "execution_count": 9,
   "id": "d5aa177b",
   "metadata": {
    "ExecuteTime": {
     "end_time": "2023-12-08T15:37:45.823755Z",
     "start_time": "2023-12-08T15:37:45.811070Z"
    }
   },
   "outputs": [
    {
     "name": "stdout",
     "output_type": "stream",
     "text": [
      "I can eat\n"
     ]
    }
   ],
   "source": [
    "class Humann(object):\n",
    "    def eat(self):\n",
    "        print(\"I can eat\")\n",
    "class Malee(Humann):\n",
    "    def sleep(self):\n",
    "        print(\"I can sleep\")\n",
    "class Boyy(Malee):\n",
    "    pass\n",
    "boyy1 = Boyy()\n",
    "boyy1.eat()"
   ]
  },
  {
   "cell_type": "markdown",
   "id": "e454f7ef",
   "metadata": {},
   "source": [
    "HIERARCHICAL INHERITANCE"
   ]
  },
  {
   "cell_type": "code",
   "execution_count": null,
   "id": "06436200",
   "metadata": {},
   "outputs": [],
   "source": []
  },
  {
   "cell_type": "markdown",
   "id": "52e2108f",
   "metadata": {},
   "source": [
    "PLOYMORPHISM"
   ]
  },
  {
   "cell_type": "code",
   "execution_count": 6,
   "id": "186cf95f",
   "metadata": {},
   "outputs": [
    {
     "name": "stdout",
     "output_type": "stream",
     "text": [
      "There are many types of birds.\n",
      "Most of the birds can fly but some cannot.\n",
      "There are many types of birds.\n",
      "Sparrows can fly.\n",
      "There are many types of birds.\n",
      "Ostriches cannot fly.\n"
     ]
    }
   ],
   "source": [
    "class Bird:\n",
    "\n",
    "\tdef intro(self):\n",
    "\t\tprint(\"There are many types of birds.\")\n",
    "\n",
    "\tdef flight(self):\n",
    "\t\tprint(\"Most of the birds can fly but some cannot.\")\n",
    "\n",
    "class sparrow(Bird):\n",
    "\n",
    "\tdef flight(self):\n",
    "\t\tprint(\"Sparrows can fly.\")\n",
    "\n",
    "class ostrich(Bird):\n",
    "\n",
    "\tdef flight(self):\n",
    "\t\tprint(\"Ostriches cannot fly.\")\n",
    "\n",
    "obj_bird = Bird()\n",
    "obj_spr = sparrow()\n",
    "obj_ost = ostrich()\n",
    "\n",
    "obj_bird.intro()\n",
    "obj_bird.flight()\n",
    "\n",
    "obj_spr.intro()\n",
    "obj_spr.flight()\n",
    "\n",
    "obj_ost.intro()\n",
    "obj_ost.flight()\n"
   ]
  },
  {
   "cell_type": "code",
   "execution_count": null,
   "id": "440ab99c",
   "metadata": {},
   "outputs": [],
   "source": []
  }
 ],
 "metadata": {
  "kernelspec": {
   "display_name": "Python 3 (ipykernel)",
   "language": "python",
   "name": "python3"
  },
  "language_info": {
   "codemirror_mode": {
    "name": "ipython",
    "version": 3
   },
   "file_extension": ".py",
   "mimetype": "text/x-python",
   "name": "python",
   "nbconvert_exporter": "python",
   "pygments_lexer": "ipython3",
   "version": "3.11.4"
  }
 },
 "nbformat": 4,
 "nbformat_minor": 5
}
