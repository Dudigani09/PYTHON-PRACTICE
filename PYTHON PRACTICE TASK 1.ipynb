{
 "cells": [
  {
   "cell_type": "markdown",
   "id": "dccf0ad5",
   "metadata": {},
   "source": [
    "# STRINGS"
   ]
  },
  {
   "cell_type": "code",
   "execution_count": 1,
   "id": "54d1003a",
   "metadata": {},
   "outputs": [
    {
     "name": "stdout",
     "output_type": "stream",
     "text": [
      "hello world\n"
     ]
    }
   ],
   "source": [
    "print('hello world')"
   ]
  },
  {
   "cell_type": "code",
   "execution_count": 2,
   "id": "e1abfacc",
   "metadata": {},
   "outputs": [
    {
     "name": "stdout",
     "output_type": "stream",
     "text": [
      "I loveyou so much\n"
     ]
    }
   ],
   "source": [
    "message=\"I loveyou so much\"\n",
    "print(message)"
   ]
  },
  {
   "cell_type": "code",
   "execution_count": 3,
   "id": "f0447a7d",
   "metadata": {},
   "outputs": [
    {
     "name": "stdout",
     "output_type": "stream",
     "text": [
      "17\n"
     ]
    }
   ],
   "source": [
    "print(len(message))  # to find length of string  , here space also in count"
   ]
  },
  {
   "cell_type": "code",
   "execution_count": 4,
   "id": "ce8c2c89",
   "metadata": {},
   "outputs": [
    {
     "name": "stdout",
     "output_type": "stream",
     "text": [
      "I\n"
     ]
    }
   ],
   "source": [
    "print(message[0])  #count starts from 0"
   ]
  },
  {
   "cell_type": "code",
   "execution_count": 5,
   "id": "9810591a",
   "metadata": {},
   "outputs": [
    {
     "name": "stdout",
     "output_type": "stream",
     "text": [
      "I lov\n"
     ]
    }
   ],
   "source": [
    "print(message[0:5])  #Slicing"
   ]
  },
  {
   "cell_type": "code",
   "execution_count": 6,
   "id": "72b92c11",
   "metadata": {},
   "outputs": [
    {
     "name": "stdout",
     "output_type": "stream",
     "text": [
      "I LOVEYOU SO MUCH\n"
     ]
    }
   ],
   "source": [
    "print(message.upper())  #uppercase"
   ]
  },
  {
   "cell_type": "code",
   "execution_count": 7,
   "id": "943ff064",
   "metadata": {},
   "outputs": [
    {
     "name": "stdout",
     "output_type": "stream",
     "text": [
      "i loveyou so much\n"
     ]
    }
   ],
   "source": [
    "print(message.lower())  #lowercase"
   ]
  },
  {
   "cell_type": "code",
   "execution_count": 8,
   "id": "89074013",
   "metadata": {},
   "outputs": [
    {
     "name": "stdout",
     "output_type": "stream",
     "text": [
      "3\n"
     ]
    }
   ],
   "source": [
    "print(message.count('o'))   #returns how many times letter is repeated"
   ]
  },
  {
   "cell_type": "code",
   "execution_count": 9,
   "id": "14f9ec5a",
   "metadata": {},
   "outputs": [
    {
     "name": "stdout",
     "output_type": "stream",
     "text": [
      "6\n"
     ]
    }
   ],
   "source": [
    "print(message.find('you'))  #returns index where the word starts"
   ]
  },
  {
   "cell_type": "code",
   "execution_count": 10,
   "id": "2110cb91",
   "metadata": {},
   "outputs": [],
   "source": [
    "x= (message.replace('much','muchhh'))  # replace word with given one"
   ]
  },
  {
   "cell_type": "code",
   "execution_count": 11,
   "id": "9597f47f",
   "metadata": {},
   "outputs": [
    {
     "name": "stdout",
     "output_type": "stream",
     "text": [
      "I loveyou so muchhh\n"
     ]
    }
   ],
   "source": [
    "print(x)"
   ]
  },
  {
   "cell_type": "code",
   "execution_count": 12,
   "id": "bc12fa59",
   "metadata": {},
   "outputs": [
    {
     "name": "stdout",
     "output_type": "stream",
     "text": [
      "I loveyou so much , buggu ...DO YOU LOVE ME?\n"
     ]
    }
   ],
   "source": [
    "name = \"buggu\"\n",
    "y = message + ' , ' + name + ' ...DO YOU LOVE ME?'    # joining strings\n",
    "print(y)"
   ]
  },
  {
   "cell_type": "code",
   "execution_count": 1,
   "id": "250b9b94",
   "metadata": {},
   "outputs": [
    {
     "ename": "NameError",
     "evalue": "name 'message' is not defined",
     "output_type": "error",
     "traceback": [
      "\u001b[1;31m---------------------------------------------------------------------------\u001b[0m",
      "\u001b[1;31mNameError\u001b[0m                                 Traceback (most recent call last)",
      "Cell \u001b[1;32mIn[1], line 1\u001b[0m\n\u001b[1;32m----> 1\u001b[0m z \u001b[38;5;241m=\u001b[39m \u001b[38;5;124m'\u001b[39m\u001b[38;5;132;01m{}\u001b[39;00m\u001b[38;5;124m , \u001b[39m\u001b[38;5;132;01m{}\u001b[39;00m\u001b[38;5;124m ....DO YOU LOVE ME?\u001b[39m\u001b[38;5;124m'\u001b[39m\u001b[38;5;241m.\u001b[39mformat(message,name)   \u001b[38;5;66;03m# using format function\u001b[39;00m\n\u001b[0;32m      2\u001b[0m \u001b[38;5;28mprint\u001b[39m(z)\n",
      "\u001b[1;31mNameError\u001b[0m: name 'message' is not defined"
     ]
    }
   ],
   "source": [
    "z = '{} , {} ....DO YOU LOVE ME?'.format(message,name)   # using format function\n",
    "print(z)"
   ]
  },
  {
   "cell_type": "code",
   "execution_count": 14,
   "id": "e5687c28",
   "metadata": {},
   "outputs": [
    {
     "name": "stdout",
     "output_type": "stream",
     "text": [
      "I loveyou so much , buggu ....DO YOU LOVE ME?\n"
     ]
    }
   ],
   "source": [
    "z = '{} , {} ....DO YOU LOVE ME?'.format(message,name)   # using format function\n",
    "print(z)"
   ]
  },
  {
   "cell_type": "code",
   "execution_count": 2,
   "id": "1a3a2490",
   "metadata": {},
   "outputs": [
    {
     "name": "stdout",
     "output_type": "stream",
     "text": [
      "i have 6 flowers with and 2 with you.....\n"
     ]
    }
   ],
   "source": [
    "# i have 6 flowers with and 2 with you..... \n",
    "a = 6\n",
    "b = 2\n",
    "print('i have {} flowers with and {} with you.....'.format(a,b))"
   ]
  },
  {
   "cell_type": "code",
   "execution_count": 15,
   "id": "f5f4600e",
   "metadata": {},
   "outputs": [
    {
     "name": "stdout",
     "output_type": "stream",
     "text": [
      "['__add__', '__class__', '__contains__', '__delattr__', '__dir__', '__doc__', '__eq__', '__format__', '__ge__', '__getattribute__', '__getitem__', '__getnewargs__', '__getstate__', '__gt__', '__hash__', '__init__', '__init_subclass__', '__iter__', '__le__', '__len__', '__lt__', '__mod__', '__mul__', '__ne__', '__new__', '__reduce__', '__reduce_ex__', '__repr__', '__rmod__', '__rmul__', '__setattr__', '__sizeof__', '__str__', '__subclasshook__', 'capitalize', 'casefold', 'center', 'count', 'encode', 'endswith', 'expandtabs', 'find', 'format', 'format_map', 'index', 'isalnum', 'isalpha', 'isascii', 'isdecimal', 'isdigit', 'isidentifier', 'islower', 'isnumeric', 'isprintable', 'isspace', 'istitle', 'isupper', 'join', 'ljust', 'lower', 'lstrip', 'maketrans', 'partition', 'removeprefix', 'removesuffix', 'replace', 'rfind', 'rindex', 'rjust', 'rpartition', 'rsplit', 'rstrip', 'split', 'splitlines', 'startswith', 'strip', 'swapcase', 'title', 'translate', 'upper', 'zfill']\n",
      "Help on class str in module builtins:\n",
      "\n",
      "class str(object)\n",
      " |  str(object='') -> str\n",
      " |  str(bytes_or_buffer[, encoding[, errors]]) -> str\n",
      " |  \n",
      " |  Create a new string object from the given object. If encoding or\n",
      " |  errors is specified, then the object must expose a data buffer\n",
      " |  that will be decoded using the given encoding and error handler.\n",
      " |  Otherwise, returns the result of object.__str__() (if defined)\n",
      " |  or repr(object).\n",
      " |  encoding defaults to sys.getdefaultencoding().\n",
      " |  errors defaults to 'strict'.\n",
      " |  \n",
      " |  Methods defined here:\n",
      " |  \n",
      " |  __add__(self, value, /)\n",
      " |      Return self+value.\n",
      " |  \n",
      " |  __contains__(self, key, /)\n",
      " |      Return key in self.\n",
      " |  \n",
      " |  __eq__(self, value, /)\n",
      " |      Return self==value.\n",
      " |  \n",
      " |  __format__(self, format_spec, /)\n",
      " |      Return a formatted version of the string as described by format_spec.\n",
      " |  \n",
      " |  __ge__(self, value, /)\n",
      " |      Return self>=value.\n",
      " |  \n",
      " |  __getattribute__(self, name, /)\n",
      " |      Return getattr(self, name).\n",
      " |  \n",
      " |  __getitem__(self, key, /)\n",
      " |      Return self[key].\n",
      " |  \n",
      " |  __getnewargs__(...)\n",
      " |  \n",
      " |  __gt__(self, value, /)\n",
      " |      Return self>value.\n",
      " |  \n",
      " |  __hash__(self, /)\n",
      " |      Return hash(self).\n",
      " |  \n",
      " |  __iter__(self, /)\n",
      " |      Implement iter(self).\n",
      " |  \n",
      " |  __le__(self, value, /)\n",
      " |      Return self<=value.\n",
      " |  \n",
      " |  __len__(self, /)\n",
      " |      Return len(self).\n",
      " |  \n",
      " |  __lt__(self, value, /)\n",
      " |      Return self<value.\n",
      " |  \n",
      " |  __mod__(self, value, /)\n",
      " |      Return self%value.\n",
      " |  \n",
      " |  __mul__(self, value, /)\n",
      " |      Return self*value.\n",
      " |  \n",
      " |  __ne__(self, value, /)\n",
      " |      Return self!=value.\n",
      " |  \n",
      " |  __repr__(self, /)\n",
      " |      Return repr(self).\n",
      " |  \n",
      " |  __rmod__(self, value, /)\n",
      " |      Return value%self.\n",
      " |  \n",
      " |  __rmul__(self, value, /)\n",
      " |      Return value*self.\n",
      " |  \n",
      " |  __sizeof__(self, /)\n",
      " |      Return the size of the string in memory, in bytes.\n",
      " |  \n",
      " |  __str__(self, /)\n",
      " |      Return str(self).\n",
      " |  \n",
      " |  capitalize(self, /)\n",
      " |      Return a capitalized version of the string.\n",
      " |      \n",
      " |      More specifically, make the first character have upper case and the rest lower\n",
      " |      case.\n",
      " |  \n",
      " |  casefold(self, /)\n",
      " |      Return a version of the string suitable for caseless comparisons.\n",
      " |  \n",
      " |  center(self, width, fillchar=' ', /)\n",
      " |      Return a centered string of length width.\n",
      " |      \n",
      " |      Padding is done using the specified fill character (default is a space).\n",
      " |  \n",
      " |  count(...)\n",
      " |      S.count(sub[, start[, end]]) -> int\n",
      " |      \n",
      " |      Return the number of non-overlapping occurrences of substring sub in\n",
      " |      string S[start:end].  Optional arguments start and end are\n",
      " |      interpreted as in slice notation.\n",
      " |  \n",
      " |  encode(self, /, encoding='utf-8', errors='strict')\n",
      " |      Encode the string using the codec registered for encoding.\n",
      " |      \n",
      " |      encoding\n",
      " |        The encoding in which to encode the string.\n",
      " |      errors\n",
      " |        The error handling scheme to use for encoding errors.\n",
      " |        The default is 'strict' meaning that encoding errors raise a\n",
      " |        UnicodeEncodeError.  Other possible values are 'ignore', 'replace' and\n",
      " |        'xmlcharrefreplace' as well as any other name registered with\n",
      " |        codecs.register_error that can handle UnicodeEncodeErrors.\n",
      " |  \n",
      " |  endswith(...)\n",
      " |      S.endswith(suffix[, start[, end]]) -> bool\n",
      " |      \n",
      " |      Return True if S ends with the specified suffix, False otherwise.\n",
      " |      With optional start, test S beginning at that position.\n",
      " |      With optional end, stop comparing S at that position.\n",
      " |      suffix can also be a tuple of strings to try.\n",
      " |  \n",
      " |  expandtabs(self, /, tabsize=8)\n",
      " |      Return a copy where all tab characters are expanded using spaces.\n",
      " |      \n",
      " |      If tabsize is not given, a tab size of 8 characters is assumed.\n",
      " |  \n",
      " |  find(...)\n",
      " |      S.find(sub[, start[, end]]) -> int\n",
      " |      \n",
      " |      Return the lowest index in S where substring sub is found,\n",
      " |      such that sub is contained within S[start:end].  Optional\n",
      " |      arguments start and end are interpreted as in slice notation.\n",
      " |      \n",
      " |      Return -1 on failure.\n",
      " |  \n",
      " |  format(...)\n",
      " |      S.format(*args, **kwargs) -> str\n",
      " |      \n",
      " |      Return a formatted version of S, using substitutions from args and kwargs.\n",
      " |      The substitutions are identified by braces ('{' and '}').\n",
      " |  \n",
      " |  format_map(...)\n",
      " |      S.format_map(mapping) -> str\n",
      " |      \n",
      " |      Return a formatted version of S, using substitutions from mapping.\n",
      " |      The substitutions are identified by braces ('{' and '}').\n",
      " |  \n",
      " |  index(...)\n",
      " |      S.index(sub[, start[, end]]) -> int\n",
      " |      \n",
      " |      Return the lowest index in S where substring sub is found,\n",
      " |      such that sub is contained within S[start:end].  Optional\n",
      " |      arguments start and end are interpreted as in slice notation.\n",
      " |      \n",
      " |      Raises ValueError when the substring is not found.\n",
      " |  \n",
      " |  isalnum(self, /)\n",
      " |      Return True if the string is an alpha-numeric string, False otherwise.\n",
      " |      \n",
      " |      A string is alpha-numeric if all characters in the string are alpha-numeric and\n",
      " |      there is at least one character in the string.\n",
      " |  \n",
      " |  isalpha(self, /)\n",
      " |      Return True if the string is an alphabetic string, False otherwise.\n",
      " |      \n",
      " |      A string is alphabetic if all characters in the string are alphabetic and there\n",
      " |      is at least one character in the string.\n",
      " |  \n",
      " |  isascii(self, /)\n",
      " |      Return True if all characters in the string are ASCII, False otherwise.\n",
      " |      \n",
      " |      ASCII characters have code points in the range U+0000-U+007F.\n",
      " |      Empty string is ASCII too.\n",
      " |  \n",
      " |  isdecimal(self, /)\n",
      " |      Return True if the string is a decimal string, False otherwise.\n",
      " |      \n",
      " |      A string is a decimal string if all characters in the string are decimal and\n",
      " |      there is at least one character in the string.\n",
      " |  \n",
      " |  isdigit(self, /)\n",
      " |      Return True if the string is a digit string, False otherwise.\n",
      " |      \n",
      " |      A string is a digit string if all characters in the string are digits and there\n",
      " |      is at least one character in the string.\n",
      " |  \n",
      " |  isidentifier(self, /)\n",
      " |      Return True if the string is a valid Python identifier, False otherwise.\n",
      " |      \n",
      " |      Call keyword.iskeyword(s) to test whether string s is a reserved identifier,\n",
      " |      such as \"def\" or \"class\".\n",
      " |  \n",
      " |  islower(self, /)\n",
      " |      Return True if the string is a lowercase string, False otherwise.\n",
      " |      \n",
      " |      A string is lowercase if all cased characters in the string are lowercase and\n",
      " |      there is at least one cased character in the string.\n",
      " |  \n",
      " |  isnumeric(self, /)\n",
      " |      Return True if the string is a numeric string, False otherwise.\n",
      " |      \n",
      " |      A string is numeric if all characters in the string are numeric and there is at\n",
      " |      least one character in the string.\n",
      " |  \n",
      " |  isprintable(self, /)\n",
      " |      Return True if the string is printable, False otherwise.\n",
      " |      \n",
      " |      A string is printable if all of its characters are considered printable in\n",
      " |      repr() or if it is empty.\n",
      " |  \n",
      " |  isspace(self, /)\n",
      " |      Return True if the string is a whitespace string, False otherwise.\n",
      " |      \n",
      " |      A string is whitespace if all characters in the string are whitespace and there\n",
      " |      is at least one character in the string.\n",
      " |  \n",
      " |  istitle(self, /)\n",
      " |      Return True if the string is a title-cased string, False otherwise.\n",
      " |      \n",
      " |      In a title-cased string, upper- and title-case characters may only\n",
      " |      follow uncased characters and lowercase characters only cased ones.\n",
      " |  \n",
      " |  isupper(self, /)\n",
      " |      Return True if the string is an uppercase string, False otherwise.\n",
      " |      \n",
      " |      A string is uppercase if all cased characters in the string are uppercase and\n",
      " |      there is at least one cased character in the string.\n",
      " |  \n",
      " |  join(self, iterable, /)\n",
      " |      Concatenate any number of strings.\n",
      " |      \n",
      " |      The string whose method is called is inserted in between each given string.\n",
      " |      The result is returned as a new string.\n",
      " |      \n",
      " |      Example: '.'.join(['ab', 'pq', 'rs']) -> 'ab.pq.rs'\n",
      " |  \n",
      " |  ljust(self, width, fillchar=' ', /)\n",
      " |      Return a left-justified string of length width.\n",
      " |      \n",
      " |      Padding is done using the specified fill character (default is a space).\n",
      " |  \n",
      " |  lower(self, /)\n",
      " |      Return a copy of the string converted to lowercase.\n",
      " |  \n",
      " |  lstrip(self, chars=None, /)\n",
      " |      Return a copy of the string with leading whitespace removed.\n",
      " |      \n",
      " |      If chars is given and not None, remove characters in chars instead.\n",
      " |  \n",
      " |  partition(self, sep, /)\n",
      " |      Partition the string into three parts using the given separator.\n",
      " |      \n",
      " |      This will search for the separator in the string.  If the separator is found,\n",
      " |      returns a 3-tuple containing the part before the separator, the separator\n",
      " |      itself, and the part after it.\n",
      " |      \n",
      " |      If the separator is not found, returns a 3-tuple containing the original string\n",
      " |      and two empty strings.\n",
      " |  \n",
      " |  removeprefix(self, prefix, /)\n",
      " |      Return a str with the given prefix string removed if present.\n",
      " |      \n",
      " |      If the string starts with the prefix string, return string[len(prefix):].\n",
      " |      Otherwise, return a copy of the original string.\n",
      " |  \n",
      " |  removesuffix(self, suffix, /)\n",
      " |      Return a str with the given suffix string removed if present.\n",
      " |      \n",
      " |      If the string ends with the suffix string and that suffix is not empty,\n",
      " |      return string[:-len(suffix)]. Otherwise, return a copy of the original\n",
      " |      string.\n",
      " |  \n",
      " |  replace(self, old, new, count=-1, /)\n",
      " |      Return a copy with all occurrences of substring old replaced by new.\n",
      " |      \n",
      " |        count\n",
      " |          Maximum number of occurrences to replace.\n",
      " |          -1 (the default value) means replace all occurrences.\n",
      " |      \n",
      " |      If the optional argument count is given, only the first count occurrences are\n",
      " |      replaced.\n",
      " |  \n",
      " |  rfind(...)\n",
      " |      S.rfind(sub[, start[, end]]) -> int\n",
      " |      \n",
      " |      Return the highest index in S where substring sub is found,\n",
      " |      such that sub is contained within S[start:end].  Optional\n",
      " |      arguments start and end are interpreted as in slice notation.\n",
      " |      \n",
      " |      Return -1 on failure.\n",
      " |  \n",
      " |  rindex(...)\n",
      " |      S.rindex(sub[, start[, end]]) -> int\n",
      " |      \n",
      " |      Return the highest index in S where substring sub is found,\n",
      " |      such that sub is contained within S[start:end].  Optional\n",
      " |      arguments start and end are interpreted as in slice notation.\n",
      " |      \n",
      " |      Raises ValueError when the substring is not found.\n",
      " |  \n",
      " |  rjust(self, width, fillchar=' ', /)\n",
      " |      Return a right-justified string of length width.\n",
      " |      \n",
      " |      Padding is done using the specified fill character (default is a space).\n",
      " |  \n",
      " |  rpartition(self, sep, /)\n",
      " |      Partition the string into three parts using the given separator.\n",
      " |      \n",
      " |      This will search for the separator in the string, starting at the end. If\n",
      " |      the separator is found, returns a 3-tuple containing the part before the\n",
      " |      separator, the separator itself, and the part after it.\n",
      " |      \n",
      " |      If the separator is not found, returns a 3-tuple containing two empty strings\n",
      " |      and the original string.\n",
      " |  \n",
      " |  rsplit(self, /, sep=None, maxsplit=-1)\n",
      " |      Return a list of the substrings in the string, using sep as the separator string.\n",
      " |      \n",
      " |        sep\n",
      " |          The separator used to split the string.\n",
      " |      \n",
      " |          When set to None (the default value), will split on any whitespace\n",
      " |          character (including \\\\n \\\\r \\\\t \\\\f and spaces) and will discard\n",
      " |          empty strings from the result.\n",
      " |        maxsplit\n",
      " |          Maximum number of splits (starting from the left).\n",
      " |          -1 (the default value) means no limit.\n",
      " |      \n",
      " |      Splitting starts at the end of the string and works to the front.\n",
      " |  \n",
      " |  rstrip(self, chars=None, /)\n",
      " |      Return a copy of the string with trailing whitespace removed.\n",
      " |      \n",
      " |      If chars is given and not None, remove characters in chars instead.\n",
      " |  \n",
      " |  split(self, /, sep=None, maxsplit=-1)\n",
      " |      Return a list of the substrings in the string, using sep as the separator string.\n",
      " |      \n",
      " |        sep\n",
      " |          The separator used to split the string.\n",
      " |      \n",
      " |          When set to None (the default value), will split on any whitespace\n",
      " |          character (including \\\\n \\\\r \\\\t \\\\f and spaces) and will discard\n",
      " |          empty strings from the result.\n",
      " |        maxsplit\n",
      " |          Maximum number of splits (starting from the left).\n",
      " |          -1 (the default value) means no limit.\n",
      " |      \n",
      " |      Note, str.split() is mainly useful for data that has been intentionally\n",
      " |      delimited.  With natural text that includes punctuation, consider using\n",
      " |      the regular expression module.\n",
      " |  \n",
      " |  splitlines(self, /, keepends=False)\n",
      " |      Return a list of the lines in the string, breaking at line boundaries.\n",
      " |      \n",
      " |      Line breaks are not included in the resulting list unless keepends is given and\n",
      " |      true.\n",
      " |  \n",
      " |  startswith(...)\n",
      " |      S.startswith(prefix[, start[, end]]) -> bool\n",
      " |      \n",
      " |      Return True if S starts with the specified prefix, False otherwise.\n",
      " |      With optional start, test S beginning at that position.\n",
      " |      With optional end, stop comparing S at that position.\n",
      " |      prefix can also be a tuple of strings to try.\n",
      " |  \n",
      " |  strip(self, chars=None, /)\n",
      " |      Return a copy of the string with leading and trailing whitespace removed.\n",
      " |      \n",
      " |      If chars is given and not None, remove characters in chars instead.\n",
      " |  \n",
      " |  swapcase(self, /)\n",
      " |      Convert uppercase characters to lowercase and lowercase characters to uppercase.\n",
      " |  \n",
      " |  title(self, /)\n",
      " |      Return a version of the string where each word is titlecased.\n",
      " |      \n",
      " |      More specifically, words start with uppercased characters and all remaining\n",
      " |      cased characters have lower case.\n",
      " |  \n",
      " |  translate(self, table, /)\n",
      " |      Replace each character in the string using the given translation table.\n",
      " |      \n",
      " |        table\n",
      " |          Translation table, which must be a mapping of Unicode ordinals to\n",
      " |          Unicode ordinals, strings, or None.\n",
      " |      \n",
      " |      The table must implement lookup/indexing via __getitem__, for instance a\n",
      " |      dictionary or list.  If this operation raises LookupError, the character is\n",
      " |      left untouched.  Characters mapped to None are deleted.\n",
      " |  \n",
      " |  upper(self, /)\n",
      " |      Return a copy of the string converted to uppercase.\n",
      " |  \n",
      " |  zfill(self, width, /)\n",
      " |      Pad a numeric string with zeros on the left, to fill a field of the given width.\n",
      " |      \n",
      " |      The string is never truncated.\n",
      " |  \n",
      " |  ----------------------------------------------------------------------\n",
      " |  Static methods defined here:\n",
      " |  \n",
      " |  __new__(*args, **kwargs) from builtins.type\n",
      " |      Create and return a new object.  See help(type) for accurate signature.\n",
      " |  \n",
      " |  maketrans(...)\n",
      " |      Return a translation table usable for str.translate().\n",
      " |      \n",
      " |      If there is only one argument, it must be a dictionary mapping Unicode\n",
      " |      ordinals (integers) or characters to Unicode ordinals, strings or None.\n",
      " |      Character keys will be then converted to ordinals.\n",
      " |      If there are two arguments, they must be strings of equal length, and\n",
      " |      in the resulting dictionary, each character in x will be mapped to the\n",
      " |      character at the same position in y. If there is a third argument, it\n",
      " |      must be a string, whose characters will be mapped to None in the result.\n",
      "\n",
      "None\n"
     ]
    }
   ],
   "source": [
    "print(dir(name))\n",
    "print(help(str))   #returns how ever we can do in detail"
   ]
  },
  {
   "cell_type": "markdown",
   "id": "d1d4bab7",
   "metadata": {},
   "source": [
    "# NUMBERS"
   ]
  },
  {
   "cell_type": "code",
   "execution_count": 16,
   "id": "0ae45dc8",
   "metadata": {},
   "outputs": [
    {
     "name": "stdout",
     "output_type": "stream",
     "text": [
      "8\n",
      "7\n",
      "15\n",
      "3.0\n",
      "6\n",
      "27\n",
      "2\n"
     ]
    }
   ],
   "source": [
    "#OPERATOR \n",
    "\n",
    "print(3+5)    #Addition\n",
    "print(19-12)  #Subtraction\n",
    "print(3*5)    #Multiplication\n",
    "print(12/4)   #Division\n",
    "print(25//4)  #Floor division\n",
    "print(3**3)   #Exponent : power 3^3\n",
    "print(86%3)   #Modulus : returns remainder"
   ]
  },
  {
   "cell_type": "code",
   "execution_count": 17,
   "id": "a0baaa9d",
   "metadata": {},
   "outputs": [
    {
     "name": "stdout",
     "output_type": "stream",
     "text": [
      "7\n",
      "9\n",
      "3\n",
      "4\n",
      "3.6\n"
     ]
    }
   ],
   "source": [
    "#ORDER OF OPERATION\n",
    "\n",
    "print(3 * 2 + 1)\n",
    "print(3 * (2 + 1))\n",
    "\n",
    "print(abs(-3))  #Absolute value : removes sign for neg numer\n",
    "print(round(3.756))  #round off\n",
    "print(round(3.567 , 1))"
   ]
  },
  {
   "cell_type": "code",
   "execution_count": 18,
   "id": "113fe4d5",
   "metadata": {},
   "outputs": [
    {
     "name": "stdout",
     "output_type": "stream",
     "text": [
      "False\n",
      "True\n",
      "True\n",
      "False\n",
      "True\n",
      "False\n"
     ]
    }
   ],
   "source": [
    "#COMPARISION\n",
    "\n",
    "print(3==2)   # Equal\n",
    "print(3!=2)   #Not Equal\n",
    "print(5>4)    #Greater than\n",
    "print(5<4)    #Less than\n",
    "print(5>=4)   #Greater or equal\n",
    "print(5<=4)   #Lessthan or equal"
   ]
  },
  {
   "cell_type": "code",
   "execution_count": 19,
   "id": "5ffd3569",
   "metadata": {},
   "outputs": [
    {
     "name": "stdout",
     "output_type": "stream",
     "text": [
      "100200\n",
      "300\n"
     ]
    }
   ],
   "source": [
    "#CASTING\n",
    "num_1 = '100'\n",
    "num_2 = '200'  \n",
    "\n",
    "print(num_1 + num_2)\n",
    "\n",
    "num_1 = int(num_1)  #String to Integer\n",
    "num_2 = int(num_2)\n",
    "print(num_1+num_2)\n"
   ]
  },
  {
   "cell_type": "markdown",
   "id": "5b2661bf",
   "metadata": {},
   "source": [
    "# SEQUENCE"
   ]
  },
  {
   "cell_type": "markdown",
   "id": "5dcc86f1",
   "metadata": {},
   "source": [
    "LIST"
   ]
  },
  {
   "cell_type": "code",
   "execution_count": 20,
   "id": "9cf8fa89",
   "metadata": {},
   "outputs": [
    {
     "name": "stdout",
     "output_type": "stream",
     "text": [
      "<class 'list'>\n",
      "4\n",
      "Compscience\n",
      "Compscience\n",
      "3\n"
     ]
    }
   ],
   "source": [
    "course = ['History', 'Math', 'Physics', 'Compscience']\n",
    "print(type(course))\n",
    "print(len(course))                         #length of list\n",
    "print(course[3])                           #Indexing\n",
    "print(course[-1])                          #negative indexing\n",
    "print(course.index('Compscience'))         #to find index of a list"
   ]
  },
  {
   "cell_type": "code",
   "execution_count": 21,
   "id": "fc244b55",
   "metadata": {},
   "outputs": [
    {
     "name": "stdout",
     "output_type": "stream",
     "text": [
      "True\n",
      "['History', 'Math']\n",
      "['History', 'Math', 'Physics', 'Compscience', 'Art']\n"
     ]
    }
   ],
   "source": [
    "print('Math' in course)                    #to find item is present in list\n",
    "print(course[0:2])                         #slicing of list\n",
    "course.append('Art')                       #adding of a value\n",
    "print(course)"
   ]
  },
  {
   "cell_type": "code",
   "execution_count": 22,
   "id": "25e6e681",
   "metadata": {},
   "outputs": [
    {
     "name": "stdout",
     "output_type": "stream",
     "text": [
      "[['ECE', 'EEE'], 'History', 'Math', 'Physics', 'Compscience', 'Art']\n",
      "['History', 'Math', 'Physics', 'Compscience', 'Art']\n"
     ]
    }
   ],
   "source": [
    "course_2 = ['ECE' , 'EEE']   #inserting a list into a list at specific loaction\n",
    "course.insert(0,course_2)\n",
    "print(course)\n",
    "course.remove(['ECE', 'EEE'])\n",
    "print(course)"
   ]
  },
  {
   "cell_type": "code",
   "execution_count": 23,
   "id": "4929f152",
   "metadata": {},
   "outputs": [
    {
     "name": "stdout",
     "output_type": "stream",
     "text": [
      "['History', 'Math', 'Physics', 'Compscience', 'Art', 'ECE', 'EEE']\n"
     ]
    }
   ],
   "source": [
    "course.extend(course_2)     #inserting items at the end\n",
    "print(course)"
   ]
  },
  {
   "cell_type": "code",
   "execution_count": 24,
   "id": "4991b5c4",
   "metadata": {},
   "outputs": [
    {
     "data": {
      "text/plain": [
       "'EEE'"
      ]
     },
     "execution_count": 24,
     "metadata": {},
     "output_type": "execute_result"
    }
   ],
   "source": [
    "course.pop()               #removing last item "
   ]
  },
  {
   "cell_type": "code",
   "execution_count": 25,
   "id": "7a6b7e4b",
   "metadata": {},
   "outputs": [
    {
     "data": {
      "text/plain": [
       "['ECE', 'Art', 'Compscience', 'Physics', 'Math', 'History']"
      ]
     },
     "execution_count": 25,
     "metadata": {},
     "output_type": "execute_result"
    }
   ],
   "source": [
    "course.reverse()           #reversing a list\n",
    "course"
   ]
  },
  {
   "cell_type": "code",
   "execution_count": 26,
   "id": "a4809cc3",
   "metadata": {},
   "outputs": [
    {
     "name": "stdout",
     "output_type": "stream",
     "text": [
      "['Art', 'Compscience', 'ECE', 'History', 'Math', 'Physics']\n",
      "[2, 3, 7, 12, 23.45, 56]\n"
     ]
    }
   ],
   "source": [
    "course.sort()              #sorting method sorts items according to alphabetical order and num in ascending order\n",
    "print(course)\n",
    "num = [12,23.45,7,56,3,2]\n",
    "num.sort()\n",
    "print(num)"
   ]
  },
  {
   "cell_type": "code",
   "execution_count": 27,
   "id": "256aac6a",
   "metadata": {},
   "outputs": [
    {
     "name": "stdout",
     "output_type": "stream",
     "text": [
      "[56, 23.45, 12, 7, 3, 2]\n",
      "2\n"
     ]
    }
   ],
   "source": [
    "num.sort(reverse = True)    #reverse sorting\n",
    "print(num)\n",
    "print(min(num))             #minimum number"
   ]
  },
  {
   "cell_type": "markdown",
   "id": "3b95248b",
   "metadata": {},
   "source": [
    "LOOPING LIST"
   ]
  },
  {
   "cell_type": "code",
   "execution_count": 28,
   "id": "9bc6792e",
   "metadata": {},
   "outputs": [
    {
     "name": "stdout",
     "output_type": "stream",
     "text": [
      "Art\n",
      "Compscience\n",
      "ECE\n",
      "History\n",
      "Math\n",
      "Physics\n"
     ]
    }
   ],
   "source": [
    "for item in course:\n",
    "\tprint(item)"
   ]
  },
  {
   "cell_type": "code",
   "execution_count": 29,
   "id": "53e8534c",
   "metadata": {},
   "outputs": [
    {
     "name": "stdout",
     "output_type": "stream",
     "text": [
      "0 Art\n",
      "1 Compscience\n",
      "2 ECE\n",
      "3 History\n",
      "4 Math\n",
      "5 Physics\n"
     ]
    }
   ],
   "source": [
    "for index,courses in enumerate(course):      #Accesing index using for loop\n",
    "\tprint(index,courses)"
   ]
  },
  {
   "cell_type": "code",
   "execution_count": 30,
   "id": "3c7a3920",
   "metadata": {},
   "outputs": [
    {
     "name": "stdout",
     "output_type": "stream",
     "text": [
      "0 Art\n",
      "1 Compscience\n",
      "2 ECE\n",
      "3 History\n",
      "4 Math\n",
      "5 Physics\n"
     ]
    }
   ],
   "source": [
    "for index,courses in enumerate(course):      #Accesing index using for loop\n",
    "\tprint(index,courses)"
   ]
  },
  {
   "cell_type": "code",
   "execution_count": 31,
   "id": "ff397229",
   "metadata": {},
   "outputs": [
    {
     "name": "stdout",
     "output_type": "stream",
     "text": [
      "Art - Compscience - ECE - History - Math - Physics\n"
     ]
    }
   ],
   "source": [
    "z= ' - '.join(course)\n",
    "print(z)                       #list to string saperated secified symbol"
   ]
  },
  {
   "cell_type": "code",
   "execution_count": 32,
   "id": "9c81c465",
   "metadata": {},
   "outputs": [
    {
     "name": "stdout",
     "output_type": "stream",
     "text": [
      "['Art ', 'Compscience ', 'ECE ', 'History ', 'Math ', 'Physics']\n"
     ]
    }
   ],
   "source": [
    "newlist = z.split('- ')\n",
    "print(newlist)                 #A string to list and saperated by symbol\n"
   ]
  },
  {
   "cell_type": "raw",
   "id": "2d0fccc8",
   "metadata": {},
   "source": [
    "TUPLE"
   ]
  },
  {
   "cell_type": "code",
   "execution_count": 33,
   "id": "5c9fe647",
   "metadata": {},
   "outputs": [
    {
     "name": "stdout",
     "output_type": "stream",
     "text": [
      "ECE\n"
     ]
    }
   ],
   "source": [
    "tup1 = ('Art', 'Compscience', 'ECE', 'History', 'Physics')\n",
    "\n",
    "print(tup1[2])"
   ]
  },
  {
   "cell_type": "code",
   "execution_count": 34,
   "id": "f0c4d17a",
   "metadata": {},
   "outputs": [
    {
     "name": "stdout",
     "output_type": "stream",
     "text": [
      "apple\n",
      "banana\n",
      "['cherry', 'strawberry', 'raspberry']\n"
     ]
    }
   ],
   "source": [
    "fruits = (\"apple\", \"banana\", \"cherry\", \"strawberry\", \"raspberry\")\n",
    "\n",
    "(green, yellow, *red) = fruits           #using asterisk\n",
    "\n",
    "print(green)\n",
    "print(yellow)\n",
    "print(red)\n"
   ]
  },
  {
   "cell_type": "code",
   "execution_count": 35,
   "id": "14fea8d9",
   "metadata": {},
   "outputs": [
    {
     "data": {
      "text/plain": [
       "('apple', 'banana', 'cherry', 'strawberry', 'raspberry')"
      ]
     },
     "execution_count": 35,
     "metadata": {},
     "output_type": "execute_result"
    }
   ],
   "source": [
    "fruits"
   ]
  },
  {
   "cell_type": "code",
   "execution_count": 36,
   "id": "db4f9ce9",
   "metadata": {},
   "outputs": [
    {
     "name": "stdout",
     "output_type": "stream",
     "text": [
      "apple\n",
      "banana\n",
      "cherry\n",
      "strawberry\n",
      "raspberry\n"
     ]
    }
   ],
   "source": [
    "for i in range(len(fruits)):\n",
    "    print(fruits[i])"
   ]
  },
  {
   "cell_type": "raw",
   "id": "21af6fd9",
   "metadata": {},
   "source": [
    "SET"
   ]
  },
  {
   "cell_type": "code",
   "execution_count": 37,
   "id": "0bea5ce4",
   "metadata": {},
   "outputs": [
    {
     "name": "stdout",
     "output_type": "stream",
     "text": [
      "{'strawberry', 'apple', 'raspberry', 'banana', 'cherry'}\n",
      "True\n"
     ]
    }
   ],
   "source": [
    "set1 = {\"apple\", \"banana\", \"cherry\", \"strawberry\", \"raspberry\"}\n",
    "print(set1)\n",
    "print('apple' in set1)"
   ]
  },
  {
   "cell_type": "code",
   "execution_count": 38,
   "id": "5c7f29a5",
   "metadata": {},
   "outputs": [],
   "source": [
    "set2 = {'queen', 'king', 'soldier', 'mantri', 'apple', 'banana'}"
   ]
  },
  {
   "cell_type": "code",
   "execution_count": 39,
   "id": "09e7df42",
   "metadata": {},
   "outputs": [
    {
     "name": "stdout",
     "output_type": "stream",
     "text": [
      "{'banana', 'apple'}\n"
     ]
    }
   ],
   "source": [
    "print(set1.intersection(set2))     #to find common items in both sets "
   ]
  },
  {
   "cell_type": "code",
   "execution_count": 40,
   "id": "55d1e2b5",
   "metadata": {},
   "outputs": [
    {
     "name": "stdout",
     "output_type": "stream",
     "text": [
      "{'strawberry', 'cherry', 'raspberry'}\n"
     ]
    }
   ],
   "source": [
    "print(set1.difference(set2))     #to find common items in both sets "
   ]
  },
  {
   "cell_type": "code",
   "execution_count": 41,
   "id": "4fa00d9f",
   "metadata": {},
   "outputs": [
    {
     "name": "stdout",
     "output_type": "stream",
     "text": [
      "{'queen', 'raspberry', 'mantri', 'soldier', 'king', 'strawberry', 'apple', 'banana', 'cherry'}\n"
     ]
    }
   ],
   "source": [
    "print(set1.union(set2))            #to join both sets"
   ]
  },
  {
   "cell_type": "raw",
   "id": "9a62af86",
   "metadata": {},
   "source": [
    "DICTIONARY"
   ]
  },
  {
   "cell_type": "code",
   "execution_count": 4,
   "id": "8e038f72",
   "metadata": {},
   "outputs": [],
   "source": [
    "mate = {'name': 'Jhon', 'age' : 25, 'coursee' : ['Maths','Compsci']}"
   ]
  },
  {
   "cell_type": "code",
   "execution_count": 5,
   "id": "2b66ea03",
   "metadata": {},
   "outputs": [
    {
     "name": "stdout",
     "output_type": "stream",
     "text": [
      "25\n",
      "{'name': 'Jhon', 'age': 25, 'coursee': ['Maths', 'Compsci'], 'phone': 2341782309}\n",
      "{'name': 'BUGUU', 'age': 22, 'coursee': ['Maths', 'Compsci'], 'phone': 8897394841}\n",
      "dict_keys(['name', 'coursee', 'phone'])\n",
      "dict_values(['BUGUU', ['Maths', 'Compsci'], 8897394841])\n"
     ]
    }
   ],
   "source": [
    "print(mate[\"age\"])                                            #Accessing a item\n",
    "mate['phone'] = 2341782309                                    #Adding a item\n",
    "print(mate)\n",
    "mate.update({'name': 'BUGUU', 'age':22, 'phone':8897394841})    #updating items in dict\n",
    "print(mate)\n",
    "mate.pop('age')\n",
    "print(mate.keys())\n",
    "print(mate.values())"
   ]
  },
  {
   "cell_type": "code",
   "execution_count": 44,
   "id": "a2f802fa",
   "metadata": {},
   "outputs": [
    {
     "name": "stdout",
     "output_type": "stream",
     "text": [
      "name mike\n",
      "coursee ['Maths', 'Compsci']\n",
      "phone 8636862211\n"
     ]
    }
   ],
   "source": [
    "#looping\n",
    "for keys,values in mate.items():\n",
    "\tprint(keys,values)"
   ]
  },
  {
   "cell_type": "code",
   "execution_count": 45,
   "id": "2a4fb13e",
   "metadata": {},
   "outputs": [
    {
     "name": "stdout",
     "output_type": "stream",
     "text": [
      "name\n",
      "coursee\n",
      "phone\n"
     ]
    }
   ],
   "source": [
    "for keys in mate.keys():\n",
    "\tprint(keys)"
   ]
  },
  {
   "cell_type": "code",
   "execution_count": 46,
   "id": "a43dd510",
   "metadata": {},
   "outputs": [
    {
     "name": "stdout",
     "output_type": "stream",
     "text": [
      "mike\n",
      "['Maths', 'Compsci']\n",
      "8636862211\n"
     ]
    }
   ],
   "source": [
    "for values in mate.values():\n",
    "\tprint(values)"
   ]
  },
  {
   "cell_type": "markdown",
   "id": "f6f6b75b",
   "metadata": {},
   "source": [
    "# CONDITIONAL STATEMENT"
   ]
  },
  {
   "cell_type": "code",
   "execution_count": 47,
   "id": "18cfa3f4",
   "metadata": {},
   "outputs": [
    {
     "name": "stdout",
     "output_type": "stream",
     "text": [
      "state_ment\n"
     ]
    }
   ],
   "source": [
    "if True:\n",
    "\tprint(\"state_ment\")    #prints statement\n",
    "\n",
    "if False:\n",
    "\tprint(\"state_ment\")    #will not print statement"
   ]
  },
  {
   "cell_type": "code",
   "execution_count": 48,
   "id": "6115b089",
   "metadata": {},
   "outputs": [
    {
     "name": "stdout",
     "output_type": "stream",
     "text": [
      "condition is true\n",
      "no match\n"
     ]
    }
   ],
   "source": [
    "#COMAPARISION\n",
    "\n",
    "lang = 'Python'\n",
    "if lang == 'Python':                           #EQUAL\n",
    "\tprint('condition is true')\n",
    "else:\n",
    "\tprint('no match')\n",
    "\n",
    "lang = 'JAVA'\n",
    "if lang == 'Python':\n",
    "\tprint('condition is true')\n",
    "else:\n",
    "\tprint('no match')\n"
   ]
  },
  {
   "cell_type": "code",
   "execution_count": 49,
   "id": "b9cba6ce",
   "metadata": {},
   "outputs": [
    {
     "name": "stdout",
     "output_type": "stream",
     "text": [
      "num is EQUAL to 34\n"
     ]
    }
   ],
   "source": [
    "num = 34\n",
    "\n",
    "if num != 34:\n",
    "\tprint(\"num is not EQUAL to 34\")           #NOT EQUAL \n",
    "elif num == 34:\n",
    "\tprint('num is EQUAL to 34')               \n",
    "elif num > 40:                                #GREATER\n",
    "\tprint('num is greater than 34')\n",
    "elif num < 40:                                #LESSER\n",
    "\tprint('num is less than 40')\n",
    "elif num >= 40:                               #GREATER OR EQUAL\n",
    "\tprint('num is greater or equal to 34')\n",
    "elif num <= 40:                               #LESSER OR EQUAL\n",
    "\tprint('num is less or equal to 34')\n"
   ]
  },
  {
   "cell_type": "code",
   "execution_count": 50,
   "id": "445ca867",
   "metadata": {},
   "outputs": [
    {
     "name": "stdout",
     "output_type": "stream",
     "text": [
      "Admin page\n"
     ]
    }
   ],
   "source": [
    "user = 'Admin'\n",
    "logged = True\n",
    "\n",
    "if user == 'Admin' and logged:\n",
    "\tprint('Admin page')\n",
    "\n",
    "else:\n",
    "\tprint('Bad gateway')\n"
   ]
  },
  {
   "cell_type": "code",
   "execution_count": 51,
   "id": "38672575",
   "metadata": {},
   "outputs": [
    {
     "name": "stdout",
     "output_type": "stream",
     "text": [
      "iequal\n",
      "1420750418752\n",
      "1420750416256\n"
     ]
    }
   ],
   "source": [
    "a = [1,2,3,4]\n",
    "b = [1,2,3,4]\n",
    "\n",
    "if a==b:\n",
    "\tprint('iequal')\n",
    "print(id(a))\n",
    "print(id(b))\n",
    "\n",
    "if a is b:\n",
    "\tprint('id equal')"
   ]
  },
  {
   "cell_type": "markdown",
   "id": "1f8520a7",
   "metadata": {},
   "source": [
    "# LOOPS"
   ]
  },
  {
   "cell_type": "code",
   "execution_count": 52,
   "id": "156f2f0f",
   "metadata": {},
   "outputs": [
    {
     "name": "stdout",
     "output_type": "stream",
     "text": [
      "1\n",
      "2\n",
      "3\n",
      "4\n",
      "5\n",
      "6\n"
     ]
    }
   ],
   "source": [
    "N = [1,2,3,4,5,6]\n",
    "\n",
    "for x in N:\n",
    "\tprint(x)\n"
   ]
  },
  {
   "cell_type": "code",
   "execution_count": 53,
   "id": "f5deb3f8",
   "metadata": {},
   "outputs": [
    {
     "name": "stdout",
     "output_type": "stream",
     "text": [
      "1\n",
      "2\n",
      "is here!!\n"
     ]
    }
   ],
   "source": [
    "for x in N:                               #BREAK STATEMENT\n",
    "\tif x==3:\n",
    "\t\tprint('is here!!')\n",
    "\t\tbreak\n",
    "\tprint(x)\n"
   ]
  },
  {
   "cell_type": "code",
   "execution_count": 54,
   "id": "2acbca5d",
   "metadata": {},
   "outputs": [
    {
     "name": "stdout",
     "output_type": "stream",
     "text": [
      "1\n",
      "2\n",
      "is here!!\n",
      "4\n",
      "5\n",
      "6\n"
     ]
    }
   ],
   "source": [
    "\n",
    "for x in N:                               #CONTINUE\n",
    "\tif x==3:\n",
    "\t\tprint('is here!!')\n",
    "\t\tcontinue\n",
    "\tprint(x)"
   ]
  },
  {
   "cell_type": "code",
   "execution_count": 55,
   "id": "25505765",
   "metadata": {},
   "outputs": [
    {
     "name": "stdout",
     "output_type": "stream",
     "text": [
      "1 P\n",
      "1 Y\n",
      "1 T\n",
      "1 H\n",
      "1 O\n",
      "1 N\n",
      "2 P\n",
      "2 Y\n",
      "2 T\n",
      "2 H\n",
      "2 O\n",
      "2 N\n",
      "3 P\n",
      "3 Y\n",
      "3 T\n",
      "3 H\n",
      "3 O\n",
      "3 N\n",
      "4 P\n",
      "4 Y\n",
      "4 T\n",
      "4 H\n",
      "4 O\n",
      "4 N\n",
      "5 P\n",
      "5 Y\n",
      "5 T\n",
      "5 H\n",
      "5 O\n",
      "5 N\n",
      "6 P\n",
      "6 Y\n",
      "6 T\n",
      "6 H\n",
      "6 O\n",
      "6 N\n"
     ]
    }
   ],
   "source": [
    "for x in N:                                #LOOP INSIDE A LOOP\n",
    "\tfor a in 'PYTHON':\n",
    "\t\tprint(x,a)"
   ]
  },
  {
   "cell_type": "code",
   "execution_count": 56,
   "id": "048eb9b5",
   "metadata": {},
   "outputs": [
    {
     "name": "stdout",
     "output_type": "stream",
     "text": [
      "0\n",
      "1\n",
      "2\n",
      "3\n",
      "4\n",
      "5\n",
      "6\n",
      "7\n",
      "8\n",
      "9\n"
     ]
    }
   ],
   "source": [
    "for i in range(10):                        #range function\n",
    "\tprint(i)"
   ]
  },
  {
   "cell_type": "code",
   "execution_count": 57,
   "id": "57aaeb73",
   "metadata": {},
   "outputs": [
    {
     "name": "stdout",
     "output_type": "stream",
     "text": [
      "1\n",
      "2\n",
      "3\n",
      "4\n",
      "5\n",
      "6\n",
      "7\n",
      "8\n",
      "9\n",
      "10\n",
      "11\n"
     ]
    }
   ],
   "source": [
    "for i in range(1,12):                      #range function with starting function\n",
    "\tprint(i)\n"
   ]
  },
  {
   "cell_type": "code",
   "execution_count": 58,
   "id": "10a4d44a",
   "metadata": {},
   "outputs": [
    {
     "name": "stdout",
     "output_type": "stream",
     "text": [
      "1\n",
      "2\n",
      "3\n",
      "4\n",
      "5\n",
      "6\n",
      "7\n",
      "8\n",
      "9\n"
     ]
    }
   ],
   "source": [
    "#While LOOP\n",
    "x=1\n",
    "while x<10:\n",
    "\tprint(x)\n",
    "\n",
    "\tx+=1\n",
    "\n",
    "while x<10:\n",
    "\tif x==5:\n",
    "\t\tbreak\n",
    "\tprint(x)\n",
    "\n",
    "\tx+=1"
   ]
  },
  {
   "cell_type": "code",
   "execution_count": null,
   "id": "0739ef88",
   "metadata": {},
   "outputs": [],
   "source": []
  }
 ],
 "metadata": {
  "kernelspec": {
   "display_name": "Python 3 (ipykernel)",
   "language": "python",
   "name": "python3"
  },
  "language_info": {
   "codemirror_mode": {
    "name": "ipython",
    "version": 3
   },
   "file_extension": ".py",
   "mimetype": "text/x-python",
   "name": "python",
   "nbconvert_exporter": "python",
   "pygments_lexer": "ipython3",
   "version": "3.11.4"
  }
 },
 "nbformat": 4,
 "nbformat_minor": 5
}
